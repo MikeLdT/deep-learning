{
  "nbformat": 4,
  "nbformat_minor": 0,
  "metadata": {
    "kernelspec": {
      "display_name": "Python 3",
      "language": "python",
      "name": "python3"
    },
    "language_info": {
      "codemirror_mode": {
        "name": "ipython",
        "version": 3
      },
      "file_extension": ".py",
      "mimetype": "text/x-python",
      "name": "python",
      "nbconvert_exporter": "python",
      "pygments_lexer": "ipython3",
      "version": "3.7.6"
    },
    "colab": {
      "name": "DL_02_MLP.ipynb",
      "provenance": [],
      "collapsed_sections": []
    }
  },
  "cells": [
    {
      "cell_type": "code",
      "metadata": {
        "id": "glhoh4KybWLh"
      },
      "source": [
        "# http://www.emergentmind.com/neural-network\n",
        "# https://hmkcode.com/ai/backpropagation-step-by-step/\n",
        "# https://mattmazur.com/2015/03/17/a-step-by-step-backpropagation-example/"
      ],
      "execution_count": null,
      "outputs": []
    },
    {
      "cell_type": "code",
      "metadata": {
        "id": "e3ohV7teCRnM"
      },
      "source": [
        "# Revisa la documentacion de python para poder instalar tensorflow.\n",
        "# Quizas alguno de las siguientes lineas sean de utilidad, o usa la suite anaconda.\n",
        "# !conda install tensorflow\n",
        "# !pip install tensorflow"
      ],
      "execution_count": null,
      "outputs": []
    },
    {
      "cell_type": "code",
      "metadata": {
        "id": "DhmUvXATbWLr"
      },
      "source": [
        "import numpy as np\n",
        "import matplotlib.pyplot as plt"
      ],
      "execution_count": null,
      "outputs": []
    },
    {
      "cell_type": "code",
      "metadata": {
        "id": "Pr8pwJ5ebWL0",
        "colab": {
          "base_uri": "https://localhost:8080/",
          "height": 347
        },
        "outputId": "932876f4-d0ae-4a8e-8af9-7b0f62731149"
      },
      "source": [
        "# Load and split data\n",
        "from sklearn.datasets import load_iris\n",
        "iris = load_iris()\n",
        "\n",
        "# We will use length and width of petals as X to predict length and width of sepals as Y\n",
        "# We also keep the labels in a vector L, only for visualzation purposes\n",
        "X = iris.data[:, :2]\n",
        "Y = iris.data[:, 2:]\n",
        "L = iris.target\n",
        "\n",
        "print(\"X data:\", X.shape)\n",
        "print(\"Y data:\", Y.shape)\n",
        "print(\"L data:\", L.shape)\n",
        "\n",
        "# Plot it\n",
        "plt.figure(figsize=(12, 4))\n",
        "plt.subplot(1, 2, 1)\n",
        "plt.scatter(X[L==0, 0], X[L==0, 1], c='b', label='setosa')\n",
        "plt.scatter(X[L==1, 0], X[L==1, 1], c='r', label='versicolor')\n",
        "plt.scatter(X[L==2, 0], X[L==2, 1], c='g', label='virginica')\n",
        "plt.legend()\n",
        "plt.grid(True)\n",
        "plt.xlabel('petal length')\n",
        "plt.ylabel('petal width')\n",
        "plt.title('Input variables X')\n",
        "plt.subplot(1, 2, 2)\n",
        "plt.scatter(Y[L==0, 0], Y[L==0, 1], c='b', label='setosa')\n",
        "plt.scatter(Y[L==1, 0], Y[L==1, 1], c='r', label='versicolor')\n",
        "plt.scatter(Y[L==2, 0], Y[L==2, 1], c='g', label='virginica')\n",
        "plt.legend()\n",
        "plt.grid(True)\n",
        "plt.xlabel('sepal length')\n",
        "plt.ylabel('sepal width')\n",
        "plt.title('Output variables Y')\n",
        "plt.show()"
      ],
      "execution_count": null,
      "outputs": [
        {
          "output_type": "stream",
          "text": [
            "X data: (150, 2)\n",
            "Y data: (150, 2)\n",
            "L data: (150,)\n"
          ],
          "name": "stdout"
        },
        {
          "output_type": "display_data",
          "data": {
            "image/png": "[encoded data removed]",
            "text/plain": [
              "<Figure size 864x288 with 2 Axes>"
            ]
          },
          "metadata": {
            "tags": [],
            "needs_background": "light"
          }
        }
      ]
    },
    {
      "cell_type": "code",
      "metadata": {
        "id": "16xfdF2xbWL8",
        "colab": {
          "base_uri": "https://localhost:8080/"
        },
        "outputId": "23c49484-5463-4d90-e3ea-62bf8006d046"
      },
      "source": [
        "# Split it into training and test sets\n",
        "from sklearn.model_selection import train_test_split\n",
        "x_train, x_test, y_train, y_test, l_train, l_test = train_test_split(X, Y, L, test_size=0.15)\n",
        "\n",
        "print(\"Training + validation inputs X:\", x_train.shape)\n",
        "print(\"Test inputs X:\", x_test.shape)\n",
        "print(\"Training + validation outputs Y:\", y_train.shape)\n",
        "print(\"Test outputs Y:\", y_test.shape)\n",
        "print(\"Training + validation labels l:\", l_train.shape)\n",
        "print(\"Test labels l:\", l_test.shape)"
      ],
      "execution_count": null,
      "outputs": [
        {
          "output_type": "stream",
          "text": [
            "Training + validation inputs X: (127, 2)\n",
            "Test inputs X: (23, 2)\n",
            "Training + validation outputs Y: (127, 2)\n",
            "Test outputs Y: (23, 2)\n",
            "Training + validation labels l: (127,)\n",
            "Test labels l: (23,)\n"
          ],
          "name": "stdout"
        }
      ]
    },
    {
      "cell_type": "code",
      "metadata": {
        "id": "RXiiHm5ZZ-5g"
      },
      "source": [
        "# Documentación de tensorflow y keras\n",
        "# https://www.tensorflow.org/\n",
        "# https://keras.io/"
      ],
      "execution_count": null,
      "outputs": []
    },
    {
      "cell_type": "code",
      "metadata": {
        "id": "jwGu_37rbWMC"
      },
      "source": [
        "# import tensorflow an the classes Model, Input (place-holder layer), and Dense (fully connected layer)\n",
        "import tensorflow as tf\n",
        "from tensorflow.keras.models import Model\n",
        "from tensorflow.keras.layers import Input, Dense"
      ],
      "execution_count": null,
      "outputs": []
    },
    {
      "cell_type": "code",
      "metadata": {
        "id": "OfZ2xl7XbWMI",
        "colab": {
          "base_uri": "https://localhost:8080/"
        },
        "outputId": "0a887dc5-d3e7-4f6b-9cff-1e65b8b54513"
      },
      "source": [
        "# Create an MLP of two inputs x=[x1, x2], and two outputs y=[y1, y2]\n",
        "i = Input(shape=(2,), name='input')\n",
        "o = Dense(units=2, activation=None, name='output')(i)\n",
        "\n",
        "MLP = Model(inputs=i, outputs=o)\n",
        "MLP.summary()"
      ],
      "execution_count": null,
      "outputs": [
        {
          "output_type": "stream",
          "text": [
            "Model: \"model_2\"\n",
            "_________________________________________________________________\n",
            "Layer (type)                 Output Shape              Param #   \n",
            "=================================================================\n",
            "input (InputLayer)           [(None, 2)]               0         \n",
            "_________________________________________________________________\n",
            "output (Dense)               (None, 2)                 6         \n",
            "=================================================================\n",
            "Total params: 6\n",
            "Trainable params: 6\n",
            "Non-trainable params: 0\n",
            "_________________________________________________________________\n"
          ],
          "name": "stdout"
        }
      ]
    },
    {
      "cell_type": "code",
      "metadata": {
        "id": "YiR10FbJbWMN",
        "colab": {
          "base_uri": "https://localhost:8080/"
        },
        "outputId": "9f5fda74-220f-44d6-9b6a-c260efb76773"
      },
      "source": [
        "# Obtain weights and biases of the hidden layer\n",
        "w1, b1 = MLP.layers[1].get_weights()\n",
        "print(\"Initial weights:\", w1.shape)\n",
        "print(w1)\n",
        "print(\"Initial biases\", b1.shape)\n",
        "print(b1)"
      ],
      "execution_count": null,
      "outputs": [
        {
          "output_type": "stream",
          "text": [
            "Initial weights: (2, 2)\n",
            "[[-0.54778194  0.40009224]\n",
            " [-0.8327329  -0.12825131]]\n",
            "Initial biases (2,)\n",
            "[0. 0.]\n"
          ],
          "name": "stdout"
        }
      ]
    },
    {
      "cell_type": "code",
      "metadata": {
        "id": "yf20TvnAbWMR",
        "colab": {
          "base_uri": "https://localhost:8080/",
          "height": 140
        },
        "outputId": "4492d3fa-1366-438a-e9d6-55a1de194bf3"
      },
      "source": [
        "# Plot a diagram of the MLP model\n",
        "from tensorflow.keras.utils import plot_model\n",
        "plot_model(MLP, to_file='MLP.png', show_shapes=True, show_layer_names=True, rankdir='TB', expand_nested=True, dpi=64)"
      ],
      "execution_count": null,
      "outputs": [
        {
          "output_type": "execute_result",
          "data": {
            "image/png": "[encoded data removed]",
            "text/plain": [
              "<IPython.core.display.Image object>"
            ]
          },
          "metadata": {
            "tags": []
          },
          "execution_count": 19
        }
      ]
    },
    {
      "cell_type": "code",
      "metadata": {
        "id": "CJ0ZRpsibWMY"
      },
      "source": [
        "# Here we define the optimizer and loss function\n",
        "# Adam and mse in this initial example\n",
        "MLP.compile(optimizer='sgd', loss='mse')"
      ],
      "execution_count": null,
      "outputs": []
    },
    {
      "cell_type": "code",
      "metadata": {
        "id": "Hzez7n_xbWMc",
        "colab": {
          "base_uri": "https://localhost:8080/"
        },
        "outputId": "2d535f62-9824-4f91-c10f-97ebc20e49d4"
      },
      "source": [
        "# And now we train the model\n",
        "# Learn to predict sepal's lenght and width from petal's lenght and width\n",
        "HISTORY = MLP.fit(x=x_train, y=y_train, batch_size=4, epochs=100, validation_split=0.2)"
      ],
      "execution_count": null,
      "outputs": [
        {
          "output_type": "stream",
          "text": [
            "Epoch 1/100\n",
            "26/26 [==============================] - 0s 7ms/step - loss: 2.7189 - val_loss: 2.8258\n",
            "Epoch 2/100\n",
            "26/26 [==============================] - 0s 3ms/step - loss: 1.3439 - val_loss: 1.7525\n",
            "Epoch 3/100\n",
            "26/26 [==============================] - 0s 2ms/step - loss: 1.2169 - val_loss: 1.8763\n",
            "Epoch 4/100\n",
            "26/26 [==============================] - 0s 2ms/step - loss: 1.1568 - val_loss: 1.7213\n",
            "Epoch 5/100\n",
            "26/26 [==============================] - 0s 2ms/step - loss: 1.0527 - val_loss: 1.6738\n",
            "Epoch 6/100\n",
            "26/26 [==============================] - 0s 2ms/step - loss: 0.9566 - val_loss: 1.4015\n",
            "Epoch 7/100\n",
            "26/26 [==============================] - 0s 2ms/step - loss: 0.8258 - val_loss: 0.9454\n",
            "Epoch 8/100\n",
            "26/26 [==============================] - 0s 3ms/step - loss: 0.7625 - val_loss: 1.0383\n",
            "Epoch 9/100\n",
            "26/26 [==============================] - 0s 3ms/step - loss: 0.7551 - val_loss: 0.7488\n",
            "Epoch 10/100\n",
            "26/26 [==============================] - 0s 3ms/step - loss: 0.6357 - val_loss: 0.6551\n",
            "Epoch 11/100\n",
            "26/26 [==============================] - 0s 3ms/step - loss: 0.6018 - val_loss: 0.7967\n",
            "Epoch 12/100\n",
            "26/26 [==============================] - 0s 3ms/step - loss: 0.5486 - val_loss: 0.5990\n",
            "Epoch 13/100\n",
            "26/26 [==============================] - 0s 2ms/step - loss: 0.5204 - val_loss: 0.5504\n",
            "Epoch 14/100\n",
            "26/26 [==============================] - 0s 3ms/step - loss: 0.4707 - val_loss: 1.1845\n",
            "Epoch 15/100\n",
            "26/26 [==============================] - 0s 2ms/step - loss: 0.4794 - val_loss: 0.5183\n",
            "Epoch 16/100\n",
            "26/26 [==============================] - 0s 3ms/step - loss: 0.4362 - val_loss: 0.4399\n",
            "Epoch 17/100\n",
            "26/26 [==============================] - 0s 2ms/step - loss: 0.4162 - val_loss: 0.4235\n",
            "Epoch 18/100\n",
            "26/26 [==============================] - 0s 2ms/step - loss: 0.4076 - val_loss: 1.2103\n",
            "Epoch 19/100\n",
            "26/26 [==============================] - 0s 3ms/step - loss: 0.4509 - val_loss: 0.5003\n",
            "Epoch 20/100\n",
            "26/26 [==============================] - 0s 2ms/step - loss: 0.3506 - val_loss: 0.7789\n",
            "Epoch 21/100\n",
            "26/26 [==============================] - 0s 2ms/step - loss: 0.3808 - val_loss: 0.4115\n",
            "Epoch 22/100\n",
            "26/26 [==============================] - 0s 2ms/step - loss: 0.3776 - val_loss: 0.4740\n",
            "Epoch 23/100\n",
            "26/26 [==============================] - 0s 3ms/step - loss: 0.3546 - val_loss: 0.4849\n",
            "Epoch 24/100\n",
            "26/26 [==============================] - 0s 2ms/step - loss: 0.3547 - val_loss: 0.3953\n",
            "Epoch 25/100\n",
            "26/26 [==============================] - 0s 2ms/step - loss: 0.3489 - val_loss: 0.3518\n",
            "Epoch 26/100\n",
            "26/26 [==============================] - 0s 2ms/step - loss: 0.3431 - val_loss: 0.3379\n",
            "Epoch 27/100\n",
            "26/26 [==============================] - 0s 2ms/step - loss: 0.3346 - val_loss: 0.3410\n",
            "Epoch 28/100\n",
            "26/26 [==============================] - 0s 2ms/step - loss: 0.3585 - val_loss: 0.3061\n",
            "Epoch 29/100\n",
            "26/26 [==============================] - 0s 2ms/step - loss: 0.3240 - val_loss: 0.5765\n",
            "Epoch 30/100\n",
            "26/26 [==============================] - 0s 2ms/step - loss: 0.3365 - val_loss: 0.2941\n",
            "Epoch 31/100\n",
            "26/26 [==============================] - 0s 2ms/step - loss: 0.3306 - val_loss: 0.3732\n",
            "Epoch 32/100\n",
            "26/26 [==============================] - 0s 2ms/step - loss: 0.3659 - val_loss: 0.2915\n",
            "Epoch 33/100\n",
            "26/26 [==============================] - 0s 2ms/step - loss: 0.3143 - val_loss: 0.3261\n",
            "Epoch 34/100\n",
            "26/26 [==============================] - 0s 3ms/step - loss: 0.3215 - val_loss: 0.3092\n",
            "Epoch 35/100\n",
            "26/26 [==============================] - 0s 2ms/step - loss: 0.3330 - val_loss: 0.3632\n",
            "Epoch 36/100\n",
            "26/26 [==============================] - 0s 3ms/step - loss: 0.3299 - val_loss: 0.3535\n",
            "Epoch 37/100\n",
            "26/26 [==============================] - 0s 2ms/step - loss: 0.3076 - val_loss: 0.2768\n",
            "Epoch 38/100\n",
            "26/26 [==============================] - 0s 2ms/step - loss: 0.2956 - val_loss: 0.3011\n",
            "Epoch 39/100\n",
            "26/26 [==============================] - 0s 2ms/step - loss: 0.3225 - val_loss: 0.2799\n",
            "Epoch 40/100\n",
            "26/26 [==============================] - 0s 3ms/step - loss: 0.3104 - val_loss: 0.2745\n",
            "Epoch 41/100\n",
            "26/26 [==============================] - 0s 2ms/step - loss: 0.2985 - val_loss: 0.3349\n",
            "Epoch 42/100\n",
            "26/26 [==============================] - 0s 3ms/step - loss: 0.3159 - val_loss: 0.2931\n",
            "Epoch 43/100\n",
            "26/26 [==============================] - 0s 2ms/step - loss: 0.3356 - val_loss: 0.2923\n",
            "Epoch 44/100\n",
            "26/26 [==============================] - 0s 2ms/step - loss: 0.3247 - val_loss: 0.3007\n",
            "Epoch 45/100\n",
            "26/26 [==============================] - 0s 2ms/step - loss: 0.3117 - val_loss: 0.2959\n",
            "Epoch 46/100\n",
            "26/26 [==============================] - 0s 2ms/step - loss: 0.3126 - val_loss: 0.2822\n",
            "Epoch 47/100\n",
            "26/26 [==============================] - 0s 2ms/step - loss: 0.2978 - val_loss: 0.5617\n",
            "Epoch 48/100\n",
            "26/26 [==============================] - 0s 2ms/step - loss: 0.3297 - val_loss: 0.3054\n",
            "Epoch 49/100\n",
            "26/26 [==============================] - 0s 2ms/step - loss: 0.2957 - val_loss: 0.2713\n",
            "Epoch 50/100\n",
            "26/26 [==============================] - 0s 3ms/step - loss: 0.3390 - val_loss: 0.3033\n",
            "Epoch 51/100\n",
            "26/26 [==============================] - 0s 2ms/step - loss: 0.3278 - val_loss: 0.2986\n",
            "Epoch 52/100\n",
            "26/26 [==============================] - 0s 2ms/step - loss: 0.3216 - val_loss: 0.8576\n",
            "Epoch 53/100\n",
            "26/26 [==============================] - 0s 2ms/step - loss: 0.3592 - val_loss: 0.2885\n",
            "Epoch 54/100\n",
            "26/26 [==============================] - 0s 2ms/step - loss: 0.3224 - val_loss: 0.3473\n",
            "Epoch 55/100\n",
            "26/26 [==============================] - 0s 2ms/step - loss: 0.3303 - val_loss: 0.2992\n",
            "Epoch 56/100\n",
            "26/26 [==============================] - 0s 2ms/step - loss: 0.3237 - val_loss: 0.2676\n",
            "Epoch 57/100\n",
            "26/26 [==============================] - 0s 2ms/step - loss: 0.3058 - val_loss: 0.2724\n",
            "Epoch 58/100\n",
            "26/26 [==============================] - 0s 2ms/step - loss: 0.3131 - val_loss: 0.3811\n",
            "Epoch 59/100\n",
            "26/26 [==============================] - 0s 2ms/step - loss: 0.3141 - val_loss: 0.2949\n",
            "Epoch 60/100\n",
            "26/26 [==============================] - 0s 3ms/step - loss: 0.3093 - val_loss: 0.2987\n",
            "Epoch 61/100\n",
            "26/26 [==============================] - 0s 3ms/step - loss: 0.3006 - val_loss: 0.2535\n",
            "Epoch 62/100\n",
            "26/26 [==============================] - 0s 2ms/step - loss: 0.3029 - val_loss: 0.3400\n",
            "Epoch 63/100\n",
            "26/26 [==============================] - 0s 2ms/step - loss: 0.3293 - val_loss: 0.6888\n",
            "Epoch 64/100\n",
            "26/26 [==============================] - 0s 2ms/step - loss: 0.3289 - val_loss: 0.2642\n",
            "Epoch 65/100\n",
            "26/26 [==============================] - 0s 2ms/step - loss: 0.3082 - val_loss: 0.2628\n",
            "Epoch 66/100\n",
            "26/26 [==============================] - 0s 3ms/step - loss: 0.2911 - val_loss: 0.3075\n",
            "Epoch 67/100\n",
            "26/26 [==============================] - 0s 2ms/step - loss: 0.3103 - val_loss: 0.2803\n",
            "Epoch 68/100\n",
            "26/26 [==============================] - 0s 2ms/step - loss: 0.3124 - val_loss: 0.2666\n",
            "Epoch 69/100\n",
            "26/26 [==============================] - 0s 2ms/step - loss: 0.3188 - val_loss: 0.2836\n",
            "Epoch 70/100\n",
            "26/26 [==============================] - 0s 3ms/step - loss: 0.3087 - val_loss: 0.4973\n",
            "Epoch 71/100\n",
            "26/26 [==============================] - 0s 2ms/step - loss: 0.3262 - val_loss: 0.2979\n",
            "Epoch 72/100\n",
            "26/26 [==============================] - 0s 2ms/step - loss: 0.2941 - val_loss: 0.4850\n",
            "Epoch 73/100\n",
            "26/26 [==============================] - 0s 2ms/step - loss: 0.3520 - val_loss: 0.2575\n",
            "Epoch 74/100\n",
            "26/26 [==============================] - 0s 2ms/step - loss: 0.3050 - val_loss: 0.3002\n",
            "Epoch 75/100\n",
            "26/26 [==============================] - 0s 3ms/step - loss: 0.3206 - val_loss: 0.2807\n",
            "Epoch 76/100\n",
            "26/26 [==============================] - 0s 2ms/step - loss: 0.2943 - val_loss: 0.2938\n",
            "Epoch 77/100\n",
            "26/26 [==============================] - 0s 3ms/step - loss: 0.3010 - val_loss: 0.2773\n",
            "Epoch 78/100\n",
            "26/26 [==============================] - 0s 2ms/step - loss: 0.3107 - val_loss: 0.2734\n",
            "Epoch 79/100\n",
            "26/26 [==============================] - 0s 2ms/step - loss: 0.3019 - val_loss: 0.2680\n",
            "Epoch 80/100\n",
            "26/26 [==============================] - 0s 2ms/step - loss: 0.2961 - val_loss: 0.3364\n",
            "Epoch 81/100\n",
            "26/26 [==============================] - 0s 3ms/step - loss: 0.3164 - val_loss: 0.3428\n",
            "Epoch 82/100\n",
            "26/26 [==============================] - 0s 3ms/step - loss: 0.3014 - val_loss: 0.2909\n",
            "Epoch 83/100\n",
            "26/26 [==============================] - 0s 2ms/step - loss: 0.2890 - val_loss: 0.3196\n",
            "Epoch 84/100\n",
            "26/26 [==============================] - 0s 2ms/step - loss: 0.3211 - val_loss: 0.3611\n",
            "Epoch 85/100\n",
            "26/26 [==============================] - 0s 2ms/step - loss: 0.3174 - val_loss: 0.2520\n",
            "Epoch 86/100\n",
            "26/26 [==============================] - 0s 3ms/step - loss: 0.3021 - val_loss: 0.2778\n",
            "Epoch 87/100\n",
            "26/26 [==============================] - 0s 3ms/step - loss: 0.3097 - val_loss: 0.3487\n",
            "Epoch 88/100\n",
            "26/26 [==============================] - 0s 2ms/step - loss: 0.2998 - val_loss: 0.2556\n",
            "Epoch 89/100\n",
            "26/26 [==============================] - 0s 2ms/step - loss: 0.2931 - val_loss: 0.2727\n",
            "Epoch 90/100\n",
            "26/26 [==============================] - 0s 2ms/step - loss: 0.2943 - val_loss: 0.2497\n",
            "Epoch 91/100\n",
            "26/26 [==============================] - 0s 3ms/step - loss: 0.2884 - val_loss: 0.6111\n",
            "Epoch 92/100\n",
            "26/26 [==============================] - 0s 2ms/step - loss: 0.3134 - val_loss: 0.2632\n",
            "Epoch 93/100\n",
            "26/26 [==============================] - 0s 2ms/step - loss: 0.3121 - val_loss: 0.3246\n",
            "Epoch 94/100\n",
            "26/26 [==============================] - 0s 2ms/step - loss: 0.2988 - val_loss: 0.3301\n",
            "Epoch 95/100\n",
            "26/26 [==============================] - 0s 3ms/step - loss: 0.2838 - val_loss: 0.3184\n",
            "Epoch 96/100\n",
            "26/26 [==============================] - 0s 3ms/step - loss: 0.3031 - val_loss: 0.2755\n",
            "Epoch 97/100\n",
            "26/26 [==============================] - 0s 2ms/step - loss: 0.2995 - val_loss: 0.5682\n",
            "Epoch 98/100\n",
            "26/26 [==============================] - 0s 2ms/step - loss: 0.3132 - val_loss: 0.3549\n",
            "Epoch 99/100\n",
            "26/26 [==============================] - 0s 2ms/step - loss: 0.3116 - val_loss: 0.2497\n",
            "Epoch 100/100\n",
            "26/26 [==============================] - 0s 2ms/step - loss: 0.2886 - val_loss: 0.2903\n"
          ],
          "name": "stdout"
        }
      ]
    },
    {
      "cell_type": "code",
      "metadata": {
        "id": "x7I-BOSFbgX-",
        "colab": {
          "base_uri": "https://localhost:8080/",
          "height": 334
        },
        "outputId": "e1b7c518-9a09-4223-e5d0-b7d1c048f39f"
      },
      "source": [
        "# Plot loss (The object MLP keeps track of the training and validation performance)\n",
        "plt.figure(figsize=(12, 5))\n",
        "plt.plot(MLP.history.history['loss'], label='Training', linewidth=2)\n",
        "plt.plot(MLP.history.history['val_loss'], label='Validation', linewidth=2)\n",
        "plt.legend()\n",
        "plt.xlabel('Epoch')\n",
        "plt.ylabel('Loss')\n",
        "plt.grid(True)\n",
        "plt.show()"
      ],
      "execution_count": null,
      "outputs": [
        {
          "output_type": "display_data",
          "data": {
            "image/png": "[encoded data removed]",
            "text/plain": [
              "<Figure size 864x360 with 1 Axes>"
            ]
          },
          "metadata": {
            "tags": [],
            "needs_background": "light"
          }
        }
      ]
    },
    {
      "cell_type": "code",
      "metadata": {
        "id": "rtHqcSQg2aQR",
        "colab": {
          "base_uri": "https://localhost:8080/"
        },
        "outputId": "e85ee2fa-b8d9-4e4b-eefd-9dbbde661ab0"
      },
      "source": [
        "# Obtain weights and biases of the hidden layer after training\n",
        "w1, b1 = MLP.layers[1].get_weights()\n",
        "print(\"Initial weights:\", w1.shape)\n",
        "print(w1)\n",
        "print(\"Initial biases\", b1.shape)\n",
        "print(b1)"
      ],
      "execution_count": null,
      "outputs": [
        {
          "output_type": "stream",
          "text": [
            "Initial weights: (2, 2)\n",
            "[[ 1.6046185  0.5996563]\n",
            " [-1.618884  -0.6587655]]\n",
            "Initial biases (2,)\n",
            "[-0.7802002 -0.3970706]\n"
          ],
          "name": "stdout"
        }
      ]
    },
    {
      "cell_type": "code",
      "metadata": {
        "id": "M99b2NpEbWMi",
        "colab": {
          "base_uri": "https://localhost:8080/"
        },
        "outputId": "7928bb00-2baf-4b40-972a-72a68f766910"
      },
      "source": [
        "# Use the trained model to compute the average test loss\n",
        "MLP.evaluate(x=x_test, y=y_test, verbose=False)"
      ],
      "execution_count": null,
      "outputs": [
        {
          "output_type": "execute_result",
          "data": {
            "text/plain": [
              "0.4896230697631836"
            ]
          },
          "metadata": {
            "tags": []
          },
          "execution_count": 27
        }
      ]
    },
    {
      "cell_type": "code",
      "metadata": {
        "id": "-vkDhVD3bWMo",
        "colab": {
          "base_uri": "https://localhost:8080/"
        },
        "outputId": "7ac86ea2-d11b-469b-e5bf-3231584cf2e5"
      },
      "source": [
        "# Now generate the predictions on the test set\n",
        "y_test_hat = MLP.predict(x=x_test)\n",
        "print(y_test_hat.shape)"
      ],
      "execution_count": null,
      "outputs": [
        {
          "output_type": "stream",
          "text": [
            "(23, 2)\n"
          ],
          "name": "stdout"
        }
      ]
    },
    {
      "cell_type": "code",
      "metadata": {
        "id": "hh43w3bRbWMs",
        "colab": {
          "base_uri": "https://localhost:8080/",
          "height": 295
        },
        "outputId": "035fb0f5-dabd-4dbf-8832-c479bfa27699"
      },
      "source": [
        " # Plot y_test_hat\n",
        "plt.scatter(y_test[l_test==0, 0], y_test[l_test==0, 1], c='b', label='set y')\n",
        "plt.scatter(y_test[l_test==1, 0], y_test[l_test==1, 1], c='r', label='ver y')\n",
        "plt.scatter(y_test[l_test==2, 0], y_test[l_test==2, 1], c='g', label='vir y')\n",
        "\n",
        "plt.scatter(y_test_hat[l_test==0, 0], y_test_hat[l_test==0, 1], c='b', marker='+', label='set y_h')\n",
        "plt.scatter(y_test_hat[l_test==1, 0], y_test_hat[l_test==1, 1], c='r', marker='+', label='ver y_h')\n",
        "plt.scatter(y_test_hat[l_test==2, 0], y_test_hat[l_test==2, 1], c='g', marker='+', label='vir y_h')\n",
        "\n",
        "plt.legend()\n",
        "plt.grid(True)\n",
        "plt.xlabel('sepal length')\n",
        "plt.ylabel('sepal width')\n",
        "plt.title('Test set and its prediction')\n",
        "plt.show()"
      ],
      "execution_count": null,
      "outputs": [
        {
          "output_type": "display_data",
          "data": {
            "image/png": "[encoded data removed]",
            "text/plain": [
              "<Figure size 432x288 with 1 Axes>"
            ]
          },
          "metadata": {
            "tags": [],
            "needs_background": "light"
          }
        }
      ]
    },
    {
      "cell_type": "code",
      "metadata": {
        "id": "hpystfDabWMw",
        "colab": {
          "base_uri": "https://localhost:8080/"
        },
        "outputId": "501e947c-ead5-4c56-9027-512f8b079626"
      },
      "source": [
        "# Create a larger MLP\n",
        "i = Input(shape=(2,), name='input')\n",
        "h = Dense(units=32, activation='relu', name='hidden1')(i)\n",
        "h = Dense(units=64, activation='relu', name='hidden2')(h)\n",
        "h = Dense(units=32, activation='relu', name='hidden3')(h)\n",
        "o = Dense(units=2, activation='linear', name='output')(h)\n",
        "\n",
        "MLP = Model(inputs=i, outputs=o)\n",
        "MLP.summary()"
      ],
      "execution_count": null,
      "outputs": [
        {
          "output_type": "stream",
          "text": [
            "Model: \"model_7\"\n",
            "_________________________________________________________________\n",
            "Layer (type)                 Output Shape              Param #   \n",
            "=================================================================\n",
            "input (InputLayer)           [(None, 2)]               0         \n",
            "_________________________________________________________________\n",
            "hidden1 (Dense)              (None, 32)                96        \n",
            "_________________________________________________________________\n",
            "hidden2 (Dense)              (None, 64)                2112      \n",
            "_________________________________________________________________\n",
            "hidden3 (Dense)              (None, 32)                2080      \n",
            "_________________________________________________________________\n",
            "output (Dense)               (None, 2)                 66        \n",
            "=================================================================\n",
            "Total params: 4,354\n",
            "Trainable params: 4,354\n",
            "Non-trainable params: 0\n",
            "_________________________________________________________________\n"
          ],
          "name": "stdout"
        }
      ]
    },
    {
      "cell_type": "code",
      "metadata": {
        "id": "x3Gj9q4VbWM0"
      },
      "source": [
        "# Compile it\n",
        "MLP.compile(optimizer='sgd', loss='mse')"
      ],
      "execution_count": null,
      "outputs": []
    },
    {
      "cell_type": "code",
      "metadata": {
        "id": "5yvl3ggEbWM4",
        "colab": {
          "base_uri": "https://localhost:8080/"
        },
        "outputId": "500d760a-9c43-4c83-abd0-1034fcb6c3b2"
      },
      "source": [
        "# Train it\n",
        "MLP.fit(x=x_train, y=y_train, batch_size=4, epochs=100, verbose=2, validation_split=0.1)"
      ],
      "execution_count": null,
      "outputs": [
        {
          "output_type": "stream",
          "text": [
            "Epoch 1/100\n",
            "29/29 - 0s - loss: 1.7514 - val_loss: 3.1370\n",
            "Epoch 2/100\n",
            "29/29 - 0s - loss: 1.2196 - val_loss: 0.7922\n",
            "Epoch 3/100\n",
            "29/29 - 0s - loss: 0.8547 - val_loss: 1.0930\n",
            "Epoch 4/100\n",
            "29/29 - 0s - loss: 0.7558 - val_loss: 0.4530\n",
            "Epoch 5/100\n",
            "29/29 - 0s - loss: 0.6136 - val_loss: 1.2828\n",
            "Epoch 6/100\n",
            "29/29 - 0s - loss: 0.6706 - val_loss: 0.9182\n",
            "Epoch 7/100\n",
            "29/29 - 0s - loss: 0.4408 - val_loss: 1.5708\n",
            "Epoch 8/100\n",
            "29/29 - 0s - loss: 0.5264 - val_loss: 0.2512\n",
            "Epoch 9/100\n",
            "29/29 - 0s - loss: 0.2953 - val_loss: 0.1643\n",
            "Epoch 10/100\n",
            "29/29 - 0s - loss: 0.3873 - val_loss: 0.5225\n",
            "Epoch 11/100\n",
            "29/29 - 0s - loss: 0.4628 - val_loss: 0.3092\n",
            "Epoch 12/100\n",
            "29/29 - 0s - loss: 0.5802 - val_loss: 0.1963\n",
            "Epoch 13/100\n",
            "29/29 - 0s - loss: 0.3672 - val_loss: 0.2872\n",
            "Epoch 14/100\n",
            "29/29 - 0s - loss: 0.4048 - val_loss: 0.5976\n",
            "Epoch 15/100\n",
            "29/29 - 0s - loss: 0.3975 - val_loss: 0.2791\n",
            "Epoch 16/100\n",
            "29/29 - 0s - loss: 0.4813 - val_loss: 0.6924\n",
            "Epoch 17/100\n",
            "29/29 - 0s - loss: 0.3333 - val_loss: 0.5258\n",
            "Epoch 18/100\n",
            "29/29 - 0s - loss: 0.5186 - val_loss: 0.2863\n",
            "Epoch 19/100\n",
            "29/29 - 0s - loss: 0.3180 - val_loss: 0.3598\n",
            "Epoch 20/100\n",
            "29/29 - 0s - loss: 0.2956 - val_loss: 0.1699\n",
            "Epoch 21/100\n",
            "29/29 - 0s - loss: 0.3131 - val_loss: 0.1301\n",
            "Epoch 22/100\n",
            "29/29 - 0s - loss: 0.3492 - val_loss: 0.1241\n",
            "Epoch 23/100\n",
            "29/29 - 0s - loss: 0.4289 - val_loss: 0.1746\n",
            "Epoch 24/100\n",
            "29/29 - 0s - loss: 0.3527 - val_loss: 0.1531\n",
            "Epoch 25/100\n",
            "29/29 - 0s - loss: 0.2650 - val_loss: 2.0311\n",
            "Epoch 26/100\n",
            "29/29 - 0s - loss: 0.4182 - val_loss: 0.1068\n",
            "Epoch 27/100\n",
            "29/29 - 0s - loss: 0.2704 - val_loss: 0.1105\n",
            "Epoch 28/100\n",
            "29/29 - 0s - loss: 0.2603 - val_loss: 0.2718\n",
            "Epoch 29/100\n",
            "29/29 - 0s - loss: 0.2910 - val_loss: 0.2685\n",
            "Epoch 30/100\n",
            "29/29 - 0s - loss: 0.2267 - val_loss: 0.2482\n",
            "Epoch 31/100\n",
            "29/29 - 0s - loss: 0.2949 - val_loss: 0.0970\n",
            "Epoch 32/100\n",
            "29/29 - 0s - loss: 0.3615 - val_loss: 0.0994\n",
            "Epoch 33/100\n",
            "29/29 - 0s - loss: 0.3131 - val_loss: 0.2687\n",
            "Epoch 34/100\n",
            "29/29 - 0s - loss: 0.2702 - val_loss: 0.2111\n",
            "Epoch 35/100\n",
            "29/29 - 0s - loss: 0.3513 - val_loss: 0.0908\n",
            "Epoch 36/100\n",
            "29/29 - 0s - loss: 0.2809 - val_loss: 0.7235\n",
            "Epoch 37/100\n",
            "29/29 - 0s - loss: 0.2877 - val_loss: 0.4230\n",
            "Epoch 38/100\n",
            "29/29 - 0s - loss: 0.2000 - val_loss: 0.3274\n",
            "Epoch 39/100\n",
            "29/29 - 0s - loss: 0.2456 - val_loss: 0.1076\n",
            "Epoch 40/100\n",
            "29/29 - 0s - loss: 0.2305 - val_loss: 0.1247\n",
            "Epoch 41/100\n",
            "29/29 - 0s - loss: 0.2407 - val_loss: 0.4421\n",
            "Epoch 42/100\n",
            "29/29 - 0s - loss: 0.2541 - val_loss: 0.0932\n",
            "Epoch 43/100\n",
            "29/29 - 0s - loss: 0.2796 - val_loss: 0.1859\n",
            "Epoch 44/100\n",
            "29/29 - 0s - loss: 0.2246 - val_loss: 0.1140\n",
            "Epoch 45/100\n",
            "29/29 - 0s - loss: 0.3374 - val_loss: 0.2386\n",
            "Epoch 46/100\n",
            "29/29 - 0s - loss: 0.2417 - val_loss: 0.3721\n",
            "Epoch 47/100\n",
            "29/29 - 0s - loss: 0.2183 - val_loss: 0.0769\n",
            "Epoch 48/100\n",
            "29/29 - 0s - loss: 0.2215 - val_loss: 0.2250\n",
            "Epoch 49/100\n",
            "29/29 - 0s - loss: 0.2791 - val_loss: 0.1546\n",
            "Epoch 50/100\n",
            "29/29 - 0s - loss: 0.3142 - val_loss: 2.1755\n",
            "Epoch 51/100\n",
            "29/29 - 0s - loss: 0.2980 - val_loss: 0.0731\n",
            "Epoch 52/100\n",
            "29/29 - 0s - loss: 0.2698 - val_loss: 0.2046\n",
            "Epoch 53/100\n",
            "29/29 - 0s - loss: 0.2157 - val_loss: 0.1495\n",
            "Epoch 54/100\n",
            "29/29 - 0s - loss: 0.2746 - val_loss: 0.1652\n",
            "Epoch 55/100\n",
            "29/29 - 0s - loss: 0.2834 - val_loss: 0.0941\n",
            "Epoch 56/100\n",
            "29/29 - 0s - loss: 0.2949 - val_loss: 0.2862\n",
            "Epoch 57/100\n",
            "29/29 - 0s - loss: 0.1854 - val_loss: 0.1885\n",
            "Epoch 58/100\n",
            "29/29 - 0s - loss: 0.2194 - val_loss: 0.1056\n",
            "Epoch 59/100\n",
            "29/29 - 0s - loss: 0.2827 - val_loss: 0.1330\n",
            "Epoch 60/100\n",
            "29/29 - 0s - loss: 0.2093 - val_loss: 0.3370\n",
            "Epoch 61/100\n",
            "29/29 - 0s - loss: 0.2105 - val_loss: 0.3560\n",
            "Epoch 62/100\n",
            "29/29 - 0s - loss: 0.2603 - val_loss: 0.1366\n",
            "Epoch 63/100\n",
            "29/29 - 0s - loss: 0.2153 - val_loss: 0.2713\n",
            "Epoch 64/100\n",
            "29/29 - 0s - loss: 0.2625 - val_loss: 0.1115\n",
            "Epoch 65/100\n",
            "29/29 - 0s - loss: 0.2313 - val_loss: 0.0789\n",
            "Epoch 66/100\n",
            "29/29 - 0s - loss: 0.2511 - val_loss: 0.3362\n",
            "Epoch 67/100\n",
            "29/29 - 0s - loss: 0.4173 - val_loss: 0.1323\n",
            "Epoch 68/100\n",
            "29/29 - 0s - loss: 0.2289 - val_loss: 0.0678\n",
            "Epoch 69/100\n",
            "29/29 - 0s - loss: 0.2260 - val_loss: 0.1957\n",
            "Epoch 70/100\n",
            "29/29 - 0s - loss: 0.2341 - val_loss: 0.1819\n",
            "Epoch 71/100\n",
            "29/29 - 0s - loss: 0.2119 - val_loss: 0.1006\n",
            "Epoch 72/100\n",
            "29/29 - 0s - loss: 0.2254 - val_loss: 0.1036\n",
            "Epoch 73/100\n",
            "29/29 - 0s - loss: 0.2628 - val_loss: 0.1802\n",
            "Epoch 74/100\n",
            "29/29 - 0s - loss: 0.2364 - val_loss: 0.3731\n",
            "Epoch 75/100\n",
            "29/29 - 0s - loss: 0.2066 - val_loss: 0.3150\n",
            "Epoch 76/100\n",
            "29/29 - 0s - loss: 0.2045 - val_loss: 0.2451\n",
            "Epoch 77/100\n",
            "29/29 - 0s - loss: 0.2087 - val_loss: 0.1377\n",
            "Epoch 78/100\n",
            "29/29 - 0s - loss: 0.2744 - val_loss: 0.0721\n",
            "Epoch 79/100\n",
            "29/29 - 0s - loss: 0.2761 - val_loss: 0.1031\n",
            "Epoch 80/100\n",
            "29/29 - 0s - loss: 0.2230 - val_loss: 0.0614\n",
            "Epoch 81/100\n",
            "29/29 - 0s - loss: 0.2065 - val_loss: 0.0848\n",
            "Epoch 82/100\n",
            "29/29 - 0s - loss: 0.2216 - val_loss: 0.9744\n",
            "Epoch 83/100\n",
            "29/29 - 0s - loss: 0.2678 - val_loss: 0.0957\n",
            "Epoch 84/100\n",
            "29/29 - 0s - loss: 0.2580 - val_loss: 0.1348\n",
            "Epoch 85/100\n",
            "29/29 - 0s - loss: 0.2278 - val_loss: 0.0610\n",
            "Epoch 86/100\n",
            "29/29 - 0s - loss: 0.2102 - val_loss: 0.0946\n",
            "Epoch 87/100\n",
            "29/29 - 0s - loss: 0.1938 - val_loss: 0.3350\n",
            "Epoch 88/100\n",
            "29/29 - 0s - loss: 0.1939 - val_loss: 0.0933\n",
            "Epoch 89/100\n",
            "29/29 - 0s - loss: 0.2113 - val_loss: 0.1180\n",
            "Epoch 90/100\n",
            "29/29 - 0s - loss: 0.2502 - val_loss: 0.1314\n",
            "Epoch 91/100\n",
            "29/29 - 0s - loss: 0.2054 - val_loss: 0.3670\n",
            "Epoch 92/100\n",
            "29/29 - 0s - loss: 0.3227 - val_loss: 0.2150\n",
            "Epoch 93/100\n",
            "29/29 - 0s - loss: 0.2741 - val_loss: 0.0916\n",
            "Epoch 94/100\n",
            "29/29 - 0s - loss: 0.2147 - val_loss: 0.0968\n",
            "Epoch 95/100\n",
            "29/29 - 0s - loss: 0.2130 - val_loss: 0.0899\n",
            "Epoch 96/100\n",
            "29/29 - 0s - loss: 0.2138 - val_loss: 0.0782\n",
            "Epoch 97/100\n",
            "29/29 - 0s - loss: 0.1808 - val_loss: 0.5535\n",
            "Epoch 98/100\n",
            "29/29 - 0s - loss: 0.2234 - val_loss: 0.4848\n",
            "Epoch 99/100\n",
            "29/29 - 0s - loss: 0.2870 - val_loss: 0.2606\n",
            "Epoch 100/100\n",
            "29/29 - 0s - loss: 0.2595 - val_loss: 0.0534\n"
          ],
          "name": "stdout"
        },
        {
          "output_type": "execute_result",
          "data": {
            "text/plain": [
              "<tensorflow.python.keras.callbacks.History at 0x7f9abc5b9110>"
            ]
          },
          "metadata": {
            "tags": []
          },
          "execution_count": 58
        }
      ]
    },
    {
      "cell_type": "code",
      "metadata": {
        "id": "ke48v-Am2Jsz",
        "colab": {
          "base_uri": "https://localhost:8080/",
          "height": 334
        },
        "outputId": "fa1b41ed-a490-49f6-bad5-82bbaa33201b"
      },
      "source": [
        "# Plot loss (The object MLP keeps track of the training and validation performance)\n",
        "plt.figure(figsize=(12, 5))\n",
        "plt.plot(MLP.history.history['loss'], label='Training', linewidth=2)\n",
        "plt.plot(MLP.history.history['val_loss'], label='Validation', linewidth=2)\n",
        "plt.legend()\n",
        "plt.xlabel('Epoch')\n",
        "plt.ylabel('Loss')\n",
        "plt.grid(True)\n",
        "plt.show()"
      ],
      "execution_count": null,
      "outputs": [
        {
          "output_type": "display_data",
          "data": {
            "image/png": "[encoded data removed]",
            "text/plain": [
              "<Figure size 864x360 with 1 Axes>"
            ]
          },
          "metadata": {
            "tags": [],
            "needs_background": "light"
          }
        }
      ]
    },
    {
      "cell_type": "code",
      "metadata": {
        "id": "pE6qPetP2ywl",
        "colab": {
          "base_uri": "https://localhost:8080/"
        },
        "outputId": "0c1203c4-7a13-495e-8957-8e8804532d21"
      },
      "source": [
        "# Obtain weights and biases of the hidden layer\n",
        "for layer in MLP.layers[1:]:\n",
        "  w, b = layer.get_weights()\n",
        "  print(\"Weights: \", w.shape, end='\\t') #print(w)\n",
        "  print(\"Biases:  \", b.shape) #print(b)"
      ],
      "execution_count": null,
      "outputs": [
        {
          "output_type": "stream",
          "text": [
            "Weights:  (2, 32)\tBiases:   (32,)\n",
            "Weights:  (32, 64)\tBiases:   (64,)\n",
            "Weights:  (64, 32)\tBiases:   (32,)\n",
            "Weights:  (32, 2)\tBiases:   (2,)\n"
          ],
          "name": "stdout"
        }
      ]
    },
    {
      "cell_type": "code",
      "metadata": {
        "id": "PcSe0ybzbWM7",
        "colab": {
          "base_uri": "https://localhost:8080/"
        },
        "outputId": "512f6c41-a3cc-4569-80a6-629f17d7da41"
      },
      "source": [
        "# Use the trained model to compute the average test loss\n",
        "MLP.evaluate(x=x_test, y=y_test, verbose=False)"
      ],
      "execution_count": null,
      "outputs": [
        {
          "output_type": "execute_result",
          "data": {
            "text/plain": [
              "0.3024967610836029"
            ]
          },
          "metadata": {
            "tags": []
          },
          "execution_count": 47
        }
      ]
    },
    {
      "cell_type": "code",
      "metadata": {
        "id": "WgIBxyqobWNA",
        "colab": {
          "base_uri": "https://localhost:8080/"
        },
        "outputId": "8df59269-7567-4f9f-b0c1-521663faa9f9"
      },
      "source": [
        "# Now generate the predictions on the test set\n",
        "y_test_hat = MLP.predict(x=x_test)\n",
        "print(y_test_hat.shape)"
      ],
      "execution_count": null,
      "outputs": [
        {
          "output_type": "stream",
          "text": [
            "(23, 2)\n"
          ],
          "name": "stdout"
        }
      ]
    },
    {
      "cell_type": "code",
      "metadata": {
        "id": "fgU_z-yiRus-",
        "colab": {
          "base_uri": "https://localhost:8080/",
          "height": 295
        },
        "outputId": "bb7749d8-8c93-4c28-fc73-fe55831bbd80"
      },
      "source": [
        "# Plot y_test_hat\n",
        "plt.scatter(y_test[l_test==0, 0], y_test[l_test==0, 1], c='b', label='set y')\n",
        "plt.scatter(y_test[l_test==1, 0], y_test[l_test==1, 1], c='r', label='ver y')\n",
        "plt.scatter(y_test[l_test==2, 0], y_test[l_test==2, 1], c='g', label='vir y')\n",
        "\n",
        "plt.scatter(y_test_hat[l_test==0, 0], y_test_hat[l_test==0, 1], c='b', marker='+', label='set y_h')\n",
        "plt.scatter(y_test_hat[l_test==1, 0], y_test_hat[l_test==1, 1], c='r', marker='+', label='ver y_h')\n",
        "plt.scatter(y_test_hat[l_test==2, 0], y_test_hat[l_test==2, 1], c='g', marker='+', label='vir y_h')\n",
        "\n",
        "plt.legend()\n",
        "plt.grid(True)\n",
        "plt.xlabel('sepal length')\n",
        "plt.ylabel('sepal width')\n",
        "plt.title('Test set and its prediction')\n",
        "plt.show()"
      ],
      "execution_count": null,
      "outputs": [
        {
          "output_type": "display_data",
          "data": {
            "image/png": "[encoded data removed]",
            "text/plain": [
              "<Figure size 432x288 with 1 Axes>"
            ]
          },
          "metadata": {
            "tags": [],
            "needs_background": "light"
          }
        }
      ]
    },
    {
      "cell_type": "code",
      "metadata": {
        "id": "ostTTvo_7A6q"
      },
      "source": [
        "# Auxiliar function to create an MLP\n",
        "def create_MLP(n_units=[2, 1], activations=None, last_activation=None):\n",
        "  h = i = Input(shape=(n_units[0]))\n",
        "  for units in n_units[1:-1]:\n",
        "    h = Dense(units=units, activation=activations)(h)\n",
        "  o = Dense(units=n_units[-1], activation=last_activation)(h)\n",
        "  return Model(inputs=i, outputs=o)"
      ],
      "execution_count": null,
      "outputs": []
    },
    {
      "cell_type": "code",
      "metadata": {
        "id": "zN_Vj0e2568J",
        "colab": {
          "base_uri": "https://localhost:8080/"
        },
        "outputId": "5ce48ea3-4afc-4c9d-fb0a-5d133bb5e084"
      },
      "source": [
        "# Corre el experimento 100 veces y registra el desempeño promedio y el tiempo de ejecución\n",
        "loss = np.zeros((10, 2))\n",
        "for ind in range(10):\n",
        "  MLP = create_MLP([2, 32, 16, 8, 2], activations='sigmoid', last_activation='relu')\n",
        "  MLP.compile(optimizer='sgd', loss='mse')\n",
        "  MLP.fit(x=x_train, y=y_train, batch_size=8, epochs=100, verbose=0, validation_split=0.2)\n",
        "  loss[ind, 0] = MLP.evaluate(x=x_train, y=y_train, verbose=False)\n",
        "  loss[ind, 1] = MLP.evaluate(x=x_test, y=y_test, verbose=False)\n",
        "  print(f\"Run {ind+1:3d} -- \", end='')\n",
        "  print(f\"Train loss: {loss[ind, 0]:6.4f}\", end='; ')\n",
        "  print(f\"Test loss: {loss[ind, 1]:6.4f}\")\n",
        "\n",
        "print(\"Average -- \", end='')\n",
        "print(f\" train loss: {loss[:, 0].mean():6.4f} +- {loss[:, 0].std():6.4f}\", end='; ')\n",
        "print(f\" test loss: {loss[:, 1].mean():6.4f} +- {loss[:, 1].std():6.4f}\")"
      ],
      "execution_count": null,
      "outputs": [
        {
          "output_type": "stream",
          "text": [
            "Run   1 -- Train loss: 0.1389; Test loss: 0.1718\n",
            "Run   2 -- Train loss: 1.0654; Test loss: 1.2951\n",
            "Run   3 -- Train loss: 1.1532; Test loss: 1.3023\n",
            "Run   4 -- Train loss: 1.0946; Test loss: 1.3636\n",
            "Run   5 -- Train loss: 9.3527; Test loss: 10.6733\n",
            "Run   6 -- Train loss: 0.1326; Test loss: 0.2068\n",
            "Run   7 -- Train loss: 0.1269; Test loss: 0.1676\n",
            "Run   8 -- Train loss: 1.0719; Test loss: 1.2687\n",
            "Run   9 -- Train loss: 0.1379; Test loss: 0.1808\n",
            "Run  10 -- Train loss: 8.4103; Test loss: 9.6046\n",
            "Average --  train loss: 2.2684 +- 3.3411;  test loss: 2.6235 +- 3.7989\n"
          ],
          "name": "stdout"
        }
      ]
    },
    {
      "cell_type": "markdown",
      "source": [
        "# Challenge"
      ],
      "metadata": {
        "id": "unYsD47-sCK9"
      }
    },
    {
      "cell_type": "code",
      "metadata": {
        "id": "9tjN--xD7TsX"
      },
      "source": [
        "# Crea un modelo que tome las 4 variables de X como entrada, y pueda pronosticar\n",
        "# las etiquetas para las clases versicolor y virginica. Puedes hacerlo tan \n",
        "# profundo como sea necesario, y con tantas neuronas como requieras. Recuerda\n",
        "# dividir los datos en set de entrenamiento, validación, y prueba, y reportar el\n",
        "# desempeño para los tres sets."
      ],
      "execution_count": 1,
      "outputs": []
    },
    {
      "cell_type": "code",
      "source": [
        ""
      ],
      "metadata": {
        "id": "7ez2DM3YsfuT"
      },
      "execution_count": null,
      "outputs": []
    }
  ]
}