{
 "cells": [
  {
   "cell_type": "code",
   "execution_count": 1,
   "metadata": {
    "id": "Ao_ZQIg07tZX"
   },
   "outputs": [],
   "source": [
    "# Imports\n",
    "import numpy as np\n",
    "import matplotlib.pyplot as plt\n",
    "from sklearn.datasets import load_iris\n",
    "from sklearn.model_selection import train_test_split\n",
    "from sklearn.metrics import accuracy_score"
   ]
  },
  {
   "cell_type": "markdown",
   "metadata": {
    "id": "jUoneR7a7tZO"
   },
   "source": [
    "# Part 1: Datos"
   ]
  },
  {
   "cell_type": "code",
   "execution_count": 2,
   "metadata": {
    "colab": {
     "base_uri": "https://localhost:8080/"
    },
    "id": "HntWfi2V7tZp",
    "outputId": "60bca66d-81d5-42d8-f2bd-e59cb5081c6c"
   },
   "outputs": [
    {
     "name": "stdout",
     "output_type": "stream",
     "text": [
      "Data shape: (150, 4)\n",
      "Examples:\n",
      " [[5.1 3.5 1.4 0.2]\n",
      " [4.9 3.  1.4 0.2]\n",
      " [4.7 3.2 1.3 0.2]\n",
      " [4.6 3.1 1.5 0.2]\n",
      " [5.  3.6 1.4 0.2]\n",
      " [5.4 3.9 1.7 0.4]\n",
      " [4.6 3.4 1.4 0.3]\n",
      " [5.  3.4 1.5 0.2]\n",
      " [4.4 2.9 1.4 0.2]\n",
      " [4.9 3.1 1.5 0.1]]\n",
      "\n",
      "Labels shape (150,)\n",
      "Examples:\n",
      " [0 0 0 0 0 0 0 0 0 0 0 0 0 0 0 0 0 0 0 0 0 0 0 0 0 0 0 0 0 0 0 0 0 0 0 0 0\n",
      " 0 0 0 0 0 0 0 0 0 0 0 0 0 1 1 1 1 1 1 1 1 1 1 1 1 1 1 1 1 1 1 1 1 1 1 1 1\n",
      " 1 1 1 1 1 1 1 1 1 1 1 1 1 1 1 1 1 1 1 1 1 1 1 1 1 1 2 2 2 2 2 2 2 2 2 2 2\n",
      " 2 2 2 2 2 2 2 2 2 2 2 2 2 2 2 2 2 2 2 2 2 2 2 2 2 2 2 2 2 2 2 2 2 2 2 2 2\n",
      " 2 2]\n",
      "Class names: ['setosa' 'versicolor' 'virginica']\n"
     ]
    }
   ],
   "source": [
    "# Load data\n",
    "iris = load_iris()\n",
    "X = iris.data\n",
    "Y = iris.target\n",
    "\n",
    "print(\"Data shape:\", X.shape)\n",
    "print(\"Examples:\\n\", X[:10])\n",
    "print(\"\\nLabels shape\", Y.shape)\n",
    "print(\"Examples:\\n\", Y)\n",
    "print(\"Class names:\", iris.target_names)"
   ]
  },
  {
   "cell_type": "code",
   "execution_count": null,
   "metadata": {
    "colab": {
     "base_uri": "https://localhost:8080/"
    },
    "id": "IRMVDy3wWS3W",
    "outputId": "48a2c499-99b2-425d-b0b6-8dd68e77f6b9"
   },
   "outputs": [
    {
     "data": {
      "text/plain": [
       "['sepal length (cm)',\n",
       " 'sepal width (cm)',\n",
       " 'petal length (cm)',\n",
       " 'petal width (cm)']"
      ]
     },
     "execution_count": 5,
     "metadata": {},
     "output_type": "execute_result"
    }
   ],
   "source": [
    "# Print more info\n",
    "iris.feature_names"
   ]
  },
  {
   "cell_type": "code",
   "execution_count": null,
   "metadata": {
    "colab": {
     "base_uri": "https://localhost:8080/",
     "height": 282
    },
    "id": "XusrHpWi7tZ7",
    "outputId": "6703873b-8c41-498e-fc82-463f806499e0"
   },
   "outputs": [
    {
     "data": {
      "image/png": "[encoded data removed]",
      "text/plain": [
       "<Figure size 720x288 with 1 Axes>"
      ]
     },
     "metadata": {
      "needs_background": "light"
     },
     "output_type": "display_data"
    }
   ],
   "source": [
    "# Plot two features: petal length and petal width\n",
    "plt.figure(figsize=(10, 4))\n",
    "plt.scatter(X[Y==0, 0], X[Y==0, 1], label=iris.target_names[0])\n",
    "plt.scatter(X[Y==1, 0], X[Y==1, 1], label=iris.target_names[1])\n",
    "plt.scatter(X[Y==2, 0], X[Y==2, 1], label=iris.target_names[2])\n",
    "plt.legend()\n",
    "plt.grid(True)\n",
    "plt.xlabel('petal length')\n",
    "plt.ylabel('petal width')\n",
    "plt.show()"
   ]
  },
  {
   "cell_type": "code",
   "execution_count": null,
   "metadata": {
    "id": "a-PcPzRX7taC"
   },
   "outputs": [],
   "source": [
    "# == Q1: ==\n",
    "# Idea alguna manera de visualizar y diferenciar las 4 variables al mismo tiempo,\n",
    "# usando una sola gráfica 2D. Muestra tu solución:"
   ]
  },
  {
   "cell_type": "code",
   "execution_count": null,
   "metadata": {
    "colab": {
     "base_uri": "https://localhost:8080/"
    },
    "id": "zJGoLQx87taL",
    "outputId": "f9768c2e-dbcd-4c77-f4db-51480b63c5b3"
   },
   "outputs": [
    {
     "name": "stdout",
     "output_type": "stream",
     "text": [
      "Data: (100, 2)\n",
      "[[5.1 3.5]\n",
      " [4.9 3. ]\n",
      " [4.7 3.2]\n",
      " [4.6 3.1]\n",
      " [5.  3.6]\n",
      " [5.4 3.9]\n",
      " [4.6 3.4]\n",
      " [5.  3.4]\n",
      " [4.4 2.9]\n",
      " [4.9 3.1]]\n",
      "Labels (100,)\n",
      "[0 0 0 0 0 0 0 0 0 0 0 0 0 0 0 0 0 0 0 0 0 0 0 0 0 0 0 0 0 0 0 0 0 0 0 0 0\n",
      " 0 0 0 0 0 0 0 0 0 0 0 0 0 1 1 1 1 1 1 1 1 1 1 1 1 1 1 1 1 1 1 1 1 1 1 1 1\n",
      " 1 1 1 1 1 1 1 1 1 1 1 1 1 1 1 1 1 1 1 1 1 1 1 1 1 1]\n"
     ]
    }
   ],
   "source": [
    "# Let's keep two classes only, and two variables\n",
    "X = X[:100, :2]\n",
    "Y = Y[:100]\n",
    "\n",
    "print(\"Data:\", X.shape)\n",
    "print(X[:10])\n",
    "print(\"Labels\", Y.shape)\n",
    "print(Y)"
   ]
  },
  {
   "cell_type": "code",
   "execution_count": null,
   "metadata": {
    "colab": {
     "base_uri": "https://localhost:8080/"
    },
    "id": "ltN6p8H47taQ",
    "outputId": "4f454f8b-6dc0-4465-9a35-d251302b745c"
   },
   "outputs": [
    {
     "name": "stdout",
     "output_type": "stream",
     "text": [
      "(80, 2)\n",
      "(20, 2)\n",
      "(80,)\n",
      "(20,)\n"
     ]
    }
   ],
   "source": [
    "# Split data into training + validation and test sets\n",
    "x_train, x_test, y_train, y_test = train_test_split(X, Y, test_size=0.2)\n",
    "\n",
    "print(x_train.shape)\n",
    "print(x_test.shape)\n",
    "print(y_train.shape)\n",
    "print(y_test.shape)"
   ]
  },
  {
   "cell_type": "markdown",
   "metadata": {
    "id": "wgbNzUqB7taX"
   },
   "source": [
    "# Part 2: Perceptron"
   ]
  },
  {
   "cell_type": "code",
   "execution_count": null,
   "metadata": {
    "id": "0p6frzZN7taf"
   },
   "outputs": [],
   "source": [
    "# Define class linear (step) perceptron\n",
    "class LPerceptron:\n",
    "  #constructor\n",
    "  def __init__ (self):\n",
    "    self.w = None\n",
    "    self.b = None\n",
    "  \n",
    "  #activation function  \n",
    "  def activation(self, x):\n",
    "    return 1 if (np.dot(self.w, x) >= self.b) else 0\n",
    "  \n",
    "  #predict on data\n",
    "  def predict(self, X):\n",
    "    Y = []\n",
    "    for x in X:\n",
    "      result = self.activation(x)\n",
    "      Y.append(result)\n",
    "    return np.array(Y)\n",
    "\n",
    "  #train\n",
    "  def fit(self, X, Y, n_epochs=1, lr=1, val_split=0.1, verbose=False):\n",
    "    x_train, x_val, y_train, y_val = train_test_split(X, Y, test_size=val_split) #split train into train and val\n",
    "    \n",
    "    self.w = np.random.rand(X.shape[1])\n",
    "    self.b = 0.0\n",
    "    \n",
    "    accuracy = np.zeros((2,))\n",
    "    accuracy[0] = accuracy_score(y_train, self.predict(x_train))\n",
    "    accuracy[1] = accuracy_score(y_val, self.predict(x_val))\n",
    "    if verbose:\n",
    "      print(f\"Epoch: {0:3d} -- acc: {accuracy[0]:6.4f}, acc_val: {accuracy[1]:6.4f}\")\n",
    "    \n",
    "    accuracy = np.zeros((n_epochs, 2))\n",
    "    for epoch in range(n_epochs): #loop through epochs\n",
    "      for x, y in zip(x_train, y_train):  #loop through samples\n",
    "        y_hat = self.activation(x)\n",
    "        err = y - y_hat\n",
    "        self.w = self.w + lr * err * x  #LA\n",
    "        self.b = self.b + lr * err      #LB\n",
    "      accuracy[epoch, 0] = accuracy_score(y_train, self.predict(x_train))\n",
    "      accuracy[epoch, 1] = accuracy_score(y_val, self.predict(x_val))\n",
    "      if verbose:\n",
    "        print(f\"Epoch: {epoch+1:3d} -- acc: {accuracy[epoch, 0]:6.4f}, acc_val: {accuracy[epoch, 1]:6.4f}\")\n",
    "        \n",
    "    return accuracy"
   ]
  },
  {
   "cell_type": "code",
   "execution_count": null,
   "metadata": {
    "id": "2P-MIPR57tak"
   },
   "outputs": [],
   "source": [
    "# == Q2: ==\n",
    "# Explica qué sucede en las líneas comentadas como #LA y #LB.\n",
    "# ¿Qué significa cada térmido de las ecuaciones?\n",
    "# ¿Por qué las expresiones contienen el término \"err\"?\n",
    "# ¿Por qué la expresión en #LA contiene la variable de entrada \"x\"?\n",
    "# ¿Cuántas iteraciones suceden en el loop interno del método fit?"
   ]
  },
  {
   "cell_type": "code",
   "execution_count": null,
   "metadata": {
    "colab": {
     "base_uri": "https://localhost:8080/"
    },
    "id": "BsaWRsdp7tas",
    "outputId": "b17cc2b4-1245-4174-d1ea-ffe6bcf471f1"
   },
   "outputs": [
    {
     "name": "stdout",
     "output_type": "stream",
     "text": [
      "Epoch:   0 -- acc: 0.4861, acc_val: 0.5000\n",
      "Epoch:   1 -- acc: 0.9722, acc_val: 1.0000\n",
      "Epoch:   2 -- acc: 0.9722, acc_val: 1.0000\n",
      "Epoch:   3 -- acc: 0.9722, acc_val: 1.0000\n",
      "Epoch:   4 -- acc: 0.9722, acc_val: 1.0000\n",
      "Epoch:   5 -- acc: 0.9722, acc_val: 1.0000\n",
      "Epoch:   6 -- acc: 0.9722, acc_val: 1.0000\n",
      "Epoch:   7 -- acc: 0.9722, acc_val: 0.8750\n",
      "Epoch:   8 -- acc: 0.9722, acc_val: 1.0000\n",
      "Epoch:   9 -- acc: 0.9722, acc_val: 0.8750\n",
      "Epoch:  10 -- acc: 0.9722, acc_val: 1.0000\n",
      "Epoch:  11 -- acc: 0.9722, acc_val: 1.0000\n",
      "Epoch:  12 -- acc: 0.9028, acc_val: 0.8750\n",
      "Epoch:  13 -- acc: 0.9722, acc_val: 1.0000\n",
      "Epoch:  14 -- acc: 0.8472, acc_val: 0.8750\n",
      "Epoch:  15 -- acc: 0.9722, acc_val: 1.0000\n",
      "Epoch:  16 -- acc: 0.8889, acc_val: 0.8750\n",
      "Epoch:  17 -- acc: 0.9722, acc_val: 1.0000\n",
      "Epoch:  18 -- acc: 0.9583, acc_val: 1.0000\n",
      "Epoch:  19 -- acc: 0.9722, acc_val: 1.0000\n",
      "Epoch:  20 -- acc: 0.9861, acc_val: 1.0000\n",
      "Epoch:  21 -- acc: 0.9583, acc_val: 1.0000\n",
      "Epoch:  22 -- acc: 0.9722, acc_val: 0.8750\n",
      "Epoch:  23 -- acc: 0.9861, acc_val: 1.0000\n",
      "Epoch:  24 -- acc: 0.9583, acc_val: 1.0000\n",
      "Epoch:  25 -- acc: 0.9722, acc_val: 0.8750\n",
      "Epoch:  26 -- acc: 0.9861, acc_val: 1.0000\n",
      "Epoch:  27 -- acc: 0.9583, acc_val: 1.0000\n",
      "Epoch:  28 -- acc: 0.9722, acc_val: 0.8750\n",
      "Epoch:  29 -- acc: 0.9861, acc_val: 1.0000\n",
      "Epoch:  30 -- acc: 0.9583, acc_val: 1.0000\n",
      "Epoch:  31 -- acc: 0.9722, acc_val: 0.8750\n",
      "Epoch:  32 -- acc: 0.9861, acc_val: 1.0000\n",
      "Epoch:  33 -- acc: 0.9583, acc_val: 1.0000\n",
      "Epoch:  34 -- acc: 0.9722, acc_val: 0.8750\n",
      "Epoch:  35 -- acc: 0.9861, acc_val: 1.0000\n",
      "Epoch:  36 -- acc: 0.9028, acc_val: 1.0000\n",
      "Epoch:  37 -- acc: 0.9722, acc_val: 1.0000\n",
      "Epoch:  38 -- acc: 0.9583, acc_val: 1.0000\n",
      "Epoch:  39 -- acc: 0.9722, acc_val: 0.8750\n",
      "Epoch:  40 -- acc: 0.9861, acc_val: 1.0000\n",
      "Epoch:  41 -- acc: 0.9583, acc_val: 1.0000\n",
      "Epoch:  42 -- acc: 0.9722, acc_val: 0.8750\n",
      "Epoch:  43 -- acc: 0.9861, acc_val: 1.0000\n",
      "Epoch:  44 -- acc: 0.9583, acc_val: 1.0000\n",
      "Epoch:  45 -- acc: 0.9722, acc_val: 0.8750\n",
      "Epoch:  46 -- acc: 0.9861, acc_val: 1.0000\n",
      "Epoch:  47 -- acc: 0.9583, acc_val: 1.0000\n",
      "Epoch:  48 -- acc: 0.9722, acc_val: 0.8750\n",
      "Epoch:  49 -- acc: 0.9861, acc_val: 1.0000\n",
      "Epoch:  50 -- acc: 0.9028, acc_val: 1.0000\n"
     ]
    }
   ],
   "source": [
    "# Create a model and train it for 50 epochs\n",
    "perceptron = LPerceptron()\n",
    "acc_history = perceptron.fit(x_train, y_train, n_epochs=50, lr=0.5, val_split=0.1, verbose=True)\n",
    "# Encuentra el mejor learning rate lr"
   ]
  },
  {
   "cell_type": "code",
   "execution_count": null,
   "metadata": {
    "colab": {
     "base_uri": "https://localhost:8080/"
    },
    "id": "RX8gJ98P7tax",
    "outputId": "9eef4e58-c20f-4c63-c332-e0e9a828149b"
   },
   "outputs": [
    {
     "name": "stdout",
     "output_type": "stream",
     "text": [
      "Test acc: 0.8\n"
     ]
    }
   ],
   "source": [
    "# Making predictions on test data\n",
    "y_test_hat = perceptron.predict(x_test)\n",
    "print(\"Test acc:\", accuracy_score(y_test_hat, y_test))"
   ]
  },
  {
   "cell_type": "code",
   "execution_count": null,
   "metadata": {
    "colab": {
     "base_uri": "https://localhost:8080/"
    },
    "id": "HU4c3P8y7ta5",
    "outputId": "703ffe00-82a3-480a-aa49-1e6128c91809"
   },
   "outputs": [
    {
     "name": "stdout",
     "output_type": "stream",
     "text": [
      "Weights: [ 16.07681321 -29.07882032]\n",
      "bias: -13.0\n"
     ]
    }
   ],
   "source": [
    "# Show the final values for the weights and bias\n",
    "print(\"Weights:\", perceptron.w)\n",
    "print(\"bias:\", perceptron.b)"
   ]
  },
  {
   "cell_type": "code",
   "execution_count": null,
   "metadata": {
    "colab": {
     "base_uri": "https://localhost:8080/"
    },
    "id": "m0PG_tVB7ta8",
    "outputId": "9baf958c-fa3a-4633-c062-e78ae0a38e9f"
   },
   "outputs": [
    {
     "name": "stdout",
     "output_type": "stream",
     "text": [
      "Training:\t 0.9492 +- 0.0672\n",
      "Validation:\t 0.9413 +- 0.0976\n",
      "Test:\t\t 0.9445 +- 0.0836\n"
     ]
    }
   ],
   "source": [
    "# == Q3: ==\n",
    "# Corre el experimento anterior 100 veces (quizás quieras establecer verbose=False),\n",
    "# y reporta el promedio +- desviación estándar obtenidos en la última época de cada corrida.\n",
    "# Debes reportar 3 promedios: para training, validation, y test sets\n",
    "# ¿Notas algún cambio significativo?\n",
    "ACC = np.zeros((100, 3))\n",
    "for ind in range(100):\n",
    "  perceptron = LPerceptron()\n",
    "  acc_history = perceptron.fit() # Completar aquí\n",
    "  ACC[ind, 0], ACC[ind, 1] = acc_history[-1]\n",
    "  y_test_hat = perceptron.predict(x_test)\n",
    "  ACC[ind, 2] = accuracy_score(y_test_hat, y_test)\n",
    "    \n",
    "print(f\"Training:\\t {ACC[:, 0].mean():6.4f} +- {ACC[:, 0].std():6.4f}\")\n",
    "print(f\"Validation:\\t {ACC[:, 1].mean():6.4f} +- {ACC[:, 1].std():6.4f}\")\n",
    "print(f\"Test:\\t\\t {ACC[:, 2].mean():6.4f} +- {ACC[:, 2].std():6.4f}\")"
   ]
  },
  {
   "cell_type": "code",
   "execution_count": null,
   "metadata": {
    "colab": {
     "base_uri": "https://localhost:8080/"
    },
    "id": "rZr_5-kb7tbB",
    "outputId": "d19f0f32-72fe-4583-8235-f862e32a51c0"
   },
   "outputs": [
    {
     "name": "stdout",
     "output_type": "stream",
     "text": [
      "Training:\t 1.0000 +- 0.0000\n",
      "Validation:\t 1.0000 +- 0.0000\n",
      "Test:\t\t 1.0000 +- 0.0000\n"
     ]
    }
   ],
   "source": [
    "# == Q4: ==\n",
    "# Repite el experimento anterior pero ahora usando las 4 variables de los datos (en vez de sólo 2)\n",
    "# ¿Hubo algún cambio significativo en los resultados obtenidos?\n",
    "# ¿Por qué crees que fue esto?\n",
    "\n",
    "X = # Completar aquí\n",
    "Y = # Completar aquí\n",
    "x_train, x_test, y_train, y_test = train_test_split(X, Y, test_size=0.1)\n",
    "\n",
    "ACC = np.zeros((100, 3))\n",
    "for ind in range(100):\n",
    "  perceptron = LPerceptron()\n",
    "  acc_history = perceptron.fit() # Completar aquí\n",
    "  ACC[ind, 0], ACC[ind, 1] = acc_history[-1]\n",
    "  y_test_hat = perceptron.predict(x_test)\n",
    "  ACC[ind, 2] = accuracy_score(y_test_hat, y_test)\n",
    "    \n",
    "print(f\"Training:\\t {ACC[:, 0].mean():6.4f} +- {ACC[:, 0].std():6.4f}\")\n",
    "print(f\"Validation:\\t {ACC[:, 1].mean():6.4f} +- {ACC[:, 1].std():6.4f}\")\n",
    "print(f\"Test:\\t\\t {ACC[:, 2].mean():6.4f} +- {ACC[:, 2].std():6.4f}\")"
   ]
  },
  {
   "cell_type": "code",
   "execution_count": null,
   "metadata": {
    "colab": {
     "base_uri": "https://localhost:8080/"
    },
    "id": "YepVzR4E7tbF",
    "outputId": "740a0570-0e21-4f6e-b6c3-b530da74f430"
   },
   "outputs": [
    {
     "name": "stdout",
     "output_type": "stream",
     "text": [
      "Training:\t 0.8817 +- 0.1033\n",
      "Validation:\t 0.8812 +- 0.1204\n",
      "Test:\t\t 0.8470 +- 0.0951\n"
     ]
    }
   ],
   "source": [
    "# == Q5: ==\n",
    "# Repite el experimento anterior pero ahora usando las 4 variables de las clases\n",
    "# versicolor (1) y virginica (2).\n",
    "# ¿Hubo algún cambio significativo en los resultados obtenidos?\n",
    "# ¿Por qué crees que fue esto?\n",
    "# ¿Por qué si modificamos los datos, seguimos usando las mismas etiquetas: Y = iris.target[:100]?\n",
    "\n",
    "X = # Completar aquí\n",
    "Y = # Completar aquí\n",
    "x_train, x_test, y_train, y_test = train_test_split(X, Y, test_size=0.1)\n",
    "\n",
    "ACC = np.zeros((100, 3))\n",
    "for ind in range(100):\n",
    "  perceptron = LPerceptron()\n",
    "  acc_history = perceptron.fit() # Completar aquí\n",
    "  ACC[ind, 0], ACC[ind, 1] = acc_history[-1]\n",
    "  y_test_hat = perceptron.predict(x_test)\n",
    "  ACC[ind, 2] = accuracy_score(y_test_hat, y_test)\n",
    "    \n",
    "print(f\"Training:\\t {ACC[:, 0].mean():6.4f} +- {ACC[:, 0].std():6.4f}\")\n",
    "print(f\"Validation:\\t {ACC[:, 1].mean():6.4f} +- {ACC[:, 1].std():6.4f}\")\n",
    "print(f\"Test:\\t\\t {ACC[:, 2].mean():6.4f} +- {ACC[:, 2].std():6.4f}\")"
   ]
  },
  {
   "cell_type": "markdown",
   "metadata": {
    "id": "FKKw7jsm7tbL"
   },
   "source": [
    "# Part 3: Non-linear (sigmoid) Perceptron"
   ]
  },
  {
   "cell_type": "code",
   "execution_count": null,
   "metadata": {
    "id": "qqpjr_lp7tbN"
   },
   "outputs": [],
   "source": [
    "# Completa el siguiente código del perceptron no lineal (sigmoide)"
   ]
  },
  {
   "cell_type": "code",
   "execution_count": null,
   "metadata": {
    "id": "L-cSy1h57tbQ"
   },
   "outputs": [],
   "source": [
    "# Define class perceptron\n",
    "class Perceptron:\n",
    "  #constructor\n",
    "  def __init__ (self):\n",
    "    self.W = None\n",
    "    self.b = None\n",
    "  \n",
    "  #total neuron input\n",
    "  def lin_sum(self, X):\n",
    "    return np.dot(self.W, X) + self.b\n",
    "  \n",
    "  #activation (sigmoid)\n",
    "  def sigmoid(self, s):\n",
    "    return 1.0 / (1.0 + np.exp(-s))\n",
    "  \n",
    "  #derivative of activation (sigmoid)\n",
    "  def d_sigmoid(self, s):\n",
    "    return self.sigmoid(s) * (1.0 - self.sigmoid(s))\n",
    "  \n",
    "  #predict on data\n",
    "  def predict(self, X):\n",
    "    Y = []\n",
    "    for x in X:\n",
    "      s = self.lin_sum(x)\n",
    "      y = self.sigmoid(s)\n",
    "      Y.append(y)\n",
    "    return np.array(Y)\n",
    "\n",
    "  #train\n",
    "  def fit(self, X, Y, n_epochs=1, lr=0.1, val_split=0.1, verbose=False):\n",
    "    x_train, x_val, y_train, y_val = train_test_split(X, Y, test_size=val_split)\n",
    "    \n",
    "    self.W = np.random.rand(X.shape[1])\n",
    "    self.b = 0.0\n",
    "    \n",
    "    accuracy = np.zeros((2,))\n",
    "    accuracy[0] = accuracy_score(y_train, self.predict(x_train).round())\n",
    "    accuracy[1] = accuracy_score(y_val, self.predict(x_val).round())\n",
    "    if verbose:\n",
    "      print(f\"Epoch: {0:3d} -- acc: {accuracy[0]:6.4f}, acc_val: {accuracy[1]:6.4f}\")\n",
    "    \n",
    "    accuracy = np.zeros((n_epochs, 2))\n",
    "    for epoch in range(n_epochs): #loop through epochs\n",
    "      for x, y in zip(x_train, y_train):  #loop through samples\n",
    "        # Forward pass\n",
    "        s = self.lin_sum(x)\n",
    "        y_hat = self.sigmoid(s)\n",
    "        # Backward pass\n",
    "        err = y - y_hat\n",
    "        self.W = # Completar aquí\n",
    "        self.b = # Completar aquí\n",
    "      accuracy[epoch, 0] = accuracy_score(y_train, self.predict(x_train).round())\n",
    "      accuracy[epoch, 1] = accuracy_score(y_val, self.predict(x_val).round())\n",
    "      if verbose:\n",
    "        print(f\"Epoch: {epoch+1:3d} -- acc: {accuracy[epoch, 0]:6.4f}, acc_val: {accuracy[epoch, 1]:6.4f}\")\n",
    "        \n",
    "    return accuracy"
   ]
  },
  {
   "cell_type": "code",
   "execution_count": null,
   "metadata": {
    "colab": {
     "base_uri": "https://localhost:8080/"
    },
    "id": "Z7nfJeba7tbV",
    "outputId": "d75434b8-51ee-4327-ac5d-c0ea50ae0cfc"
   },
   "outputs": [
    {
     "name": "stdout",
     "output_type": "stream",
     "text": [
      "Training:\t 0.8935 +- 0.1309\n",
      "Validation:\t 0.9075 +- 0.1421\n",
      "Test:\t\t 0.8710 +- 0.1415\n"
     ]
    }
   ],
   "source": [
    "# == Q6: ==\n",
    "# Repite el experimento anterior usando las 4 variables de las clases \n",
    "# versicolor (1) y virginica (2), pero ahora usando el Perceptron logístico.\n",
    "# ¿Hubo algún cambio significativo en los resultados obtenidos?\n",
    "# ¿Por qué crees que fue esto?\n",
    "\n",
    "X = # Completar aquí\n",
    "Y = # Completar aquí\n",
    "x_train, x_test, y_train, y_test = train_test_split(X, Y, test_size=0.1)\n",
    "\n",
    "ACC = np.zeros((100, 3))\n",
    "for ind in range(100):\n",
    "  perceptron = Perceptron()\n",
    "  acc_history = perceptron.fit() # Completar aquí\n",
    "  ACC[ind, 0], ACC[ind, 1] = acc_history[-1]\n",
    "  y_test_hat = perceptron.predict(x_test)\n",
    "  ACC[ind, 2] = accuracy_score(y_test, y_test_hat.round())\n",
    "    \n",
    "print(f\"Training:\\t {ACC[:, 0].mean():6.4f} +- {ACC[:, 0].std():6.4f}\")\n",
    "print(f\"Validation:\\t {ACC[:, 1].mean():6.4f} +- {ACC[:, 1].std():6.4f}\")\n",
    "print(f\"Test:\\t\\t {ACC[:, 2].mean():6.4f} +- {ACC[:, 2].std():6.4f}\")"
   ]
  },
  {
   "cell_type": "markdown",
   "metadata": {
    "id": "SgqSqFHUuME_"
   },
   "source": [
    "# Part 4: Sklearn Perceptron"
   ]
  },
  {
   "cell_type": "code",
   "execution_count": null,
   "metadata": {
    "id": "I0fUQU9TvlH6"
   },
   "outputs": [],
   "source": [
    "# Manually divide train, val, y test sets\n",
    "x_train, x_test, y_train, y_test = train_test_split(X, Y, test_size=0.1)\n",
    "x_train, x_val, y_train, y_val = train_test_split(x_train, y_train, test_size=0.1)"
   ]
  },
  {
   "cell_type": "code",
   "execution_count": null,
   "metadata": {
    "colab": {
     "base_uri": "https://localhost:8080/"
    },
    "id": "BSxIf7I07tbe",
    "outputId": "e9df1fb5-c51a-4225-d5a7-5133d45f19fb"
   },
   "outputs": [
    {
     "data": {
      "text/plain": [
       "Perceptron(alpha=0.0001, class_weight=None, early_stopping=False, eta0=0.3,\n",
       "           fit_intercept=True, max_iter=50, n_iter_no_change=5, n_jobs=None,\n",
       "           penalty=None, random_state=0, shuffle=True, tol=0.001,\n",
       "           validation_fraction=0.1, verbose=0, warm_start=False)"
      ]
     },
     "execution_count": 28,
     "metadata": {
      "tags": []
     },
     "output_type": "execute_result"
    }
   ],
   "source": [
    "# Use perceptron from scikit-learn\n",
    "from sklearn.linear_model import Perceptron\n",
    "sk_perceptron = Perceptron(max_iter=50, eta0=0.3)\n",
    "sk_perceptron.fit(x_train, y_train)"
   ]
  },
  {
   "cell_type": "code",
   "execution_count": null,
   "metadata": {
    "colab": {
     "base_uri": "https://localhost:8080/"
    },
    "id": "H15JJ99AuXIf",
    "outputId": "a6afbc0a-d9a6-406f-ae31-0afc8e1964e9"
   },
   "outputs": [
    {
     "name": "stdout",
     "output_type": "stream",
     "text": [
      "Training:\t 0.9444\n",
      "Validation:\t 0.8750\n",
      "Test:\t\t 0.9500\n"
     ]
    }
   ],
   "source": [
    "# Print performance\n",
    "print(f\"Training:\\t {sk_perceptron.score(x_train, y_train):.4f}\")\n",
    "print(f\"Validation:\\t {sk_perceptron.score(x_val, y_val):.4f}\")\n",
    "print(f\"Test:\\t\\t {sk_perceptron.score(x_test, y_test):.4f}\")"
   ]
  },
  {
   "cell_type": "code",
   "execution_count": null,
   "metadata": {
    "id": "RKPdnP3wuyhx"
   },
   "outputs": [],
   "source": []
  }
 ],
 "metadata": {
  "colab": {
   "collapsed_sections": [],
   "name": "DL_01_Perceptron.ipynb",
   "provenance": []
  },
  "environment": {
   "kernel": "python3",
   "name": "common-cpu.m89",
   "type": "gcloud",
   "uri": "gcr.io/deeplearning-platform-release/base-cpu:m89"
  },
  "kernelspec": {
   "display_name": "Python 3",
   "language": "python",
   "name": "python3"
  },
  "language_info": {
   "codemirror_mode": {
    "name": "ipython",
    "version": 3
   },
   "file_extension": ".py",
   "mimetype": "text/x-python",
   "name": "python",
   "nbconvert_exporter": "python",
   "pygments_lexer": "ipython3",
   "version": "3.7.12"
  }
 },
 "nbformat": 4,
 "nbformat_minor": 4
}
