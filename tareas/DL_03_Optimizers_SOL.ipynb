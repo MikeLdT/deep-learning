{
  "nbformat": 4,
  "nbformat_minor": 0,
  "metadata": {
    "colab": {
      "name": "DL_03_Optimizers.ipynb",
      "provenance": [],
      "collapsed_sections": []
    },
    "kernelspec": {
      "name": "python3",
      "display_name": "Python 3"
    },
    "accelerator": "GPU"
  },
  "cells": [
    {
      "cell_type": "code",
      "metadata": {
        "id": "auaqKUAuFRwJ"
      },
      "source": [
        "  import numpy as np\n",
        "import pandas as pd\n",
        "import matplotlib.pyplot as plt"
      ],
      "execution_count": null,
      "outputs": []
    },
    {
      "cell_type": "code",
      "metadata": {
        "id": "R7BOD99kHvAZ"
      },
      "source": [
        "# Usaremos la base de datos: Beijing Multi-Site Air-Quality Data Data Set,\n",
        "# la cual puede ser obtenida desde https://archive.ics.uci.edu/ml/datasets/Beijing+Multi-Site+Air-Quality+Data\n",
        "# (revisar la página para más detalles sobre los datos)\n",
        "# Se ha proporcionado un archivo csv con la información obtenida de la estación\n",
        "# de monitoreo Aotizhongxin, el cual contiene 35,064 registros.\n",
        "\n",
        "# El objetivo es poder predecir la concetración de PM2.5 y de PM10 a partir de las\n",
        "# variables año, mes, día, hora, temperatura, presión, punto de rocío, \n",
        "# precipitación y velocidad del viento."
      ],
      "execution_count": null,
      "outputs": []
    },
    {
      "cell_type": "markdown",
      "metadata": {
        "id": "oN6aBWNOWrY7"
      },
      "source": [
        "# Part 1: Load data into Colab"
      ]
    },
    {
      "cell_type": "code",
      "metadata": {
        "id": "kB4uTQwSFkVr",
        "colab": {
          "resources": {
            "http://localhost:8080/nbextensions/google.colab/files.js": {
              "data": "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",
              "ok": true,
              "headers": [
                [
                  "content-type",
                  "application/javascript"
                ]
              ],
              "status": 200,
              "status_text": ""
            }
          },
          "base_uri": "https://localhost:8080/",
          "height": 73
        },
        "outputId": "a26d937d-a121-4f45-c664-36c967e2a9af"
      },
      "source": [
        "# Requiered to select a file from your HD\n",
        "from google.colab import files\n",
        "uploaded = files.upload()"
      ],
      "execution_count": null,
      "outputs": [
        {
          "output_type": "display_data",
          "data": {
            "text/html": [
              "\n",
              "     <input type=\"file\" id=\"files-9314522b-b5e1-48ca-821b-20789b07256e\" name=\"files[]\" multiple disabled\n",
              "        style=\"border:none\" />\n",
              "     <output id=\"result-9314522b-b5e1-48ca-821b-20789b07256e\">\n",
              "      Upload widget is only available when the cell has been executed in the\n",
              "      current browser session. Please rerun this cell to enable.\n",
              "      </output>\n",
              "      <script src=\"/nbextensions/google.colab/files.js\"></script> "
            ],
            "text/plain": [
              "<IPython.core.display.HTML object>"
            ]
          },
          "metadata": {}
        },
        {
          "output_type": "stream",
          "name": "stdout",
          "text": [
            "Saving PRSA_Aotizhongxin.csv to PRSA_Aotizhongxin.csv\n"
          ]
        }
      ]
    },
    {
      "cell_type": "code",
      "metadata": {
        "id": "JwhYkkpoGG8y",
        "colab": {
          "base_uri": "https://localhost:8080/",
          "height": 423
        },
        "outputId": "4eb9bc9f-5add-4b97-922c-d7cad82d16ea"
      },
      "source": [
        "# Import file and store it in a data frame\n",
        "df = pd.read_csv('PRSA_Aotizhongxin.csv') # Cambia al nombre del archivo que cargues\n",
        "df.dropna(inplace=True)\n",
        "df\n",
        "# Quedan 31,815 registros despues de eliminar NaN's"
      ],
      "execution_count": null,
      "outputs": [
        {
          "output_type": "execute_result",
          "data": {
            "text/html": [
              "\n",
              "  <div id=\"df-7ed3d256-2ac3-44db-978f-597d2360765f\">\n",
              "    <div class=\"colab-df-container\">\n",
              "      <div>\n",
              "<style scoped>\n",
              "    .dataframe tbody tr th:only-of-type {\n",
              "        vertical-align: middle;\n",
              "    }\n",
              "\n",
              "    .dataframe tbody tr th {\n",
              "        vertical-align: top;\n",
              "    }\n",
              "\n",
              "    .dataframe thead th {\n",
              "        text-align: right;\n",
              "    }\n",
              "</style>\n",
              "<table border=\"1\" class=\"dataframe\">\n",
              "  <thead>\n",
              "    <tr style=\"text-align: right;\">\n",
              "      <th></th>\n",
              "      <th>No</th>\n",
              "      <th>year</th>\n",
              "      <th>month</th>\n",
              "      <th>day</th>\n",
              "      <th>hour</th>\n",
              "      <th>PM2.5</th>\n",
              "      <th>PM10</th>\n",
              "      <th>SO2</th>\n",
              "      <th>NO2</th>\n",
              "      <th>CO</th>\n",
              "      <th>O3</th>\n",
              "      <th>TEMP</th>\n",
              "      <th>PRES</th>\n",
              "      <th>DEWP</th>\n",
              "      <th>RAIN</th>\n",
              "      <th>wd</th>\n",
              "      <th>WSPM</th>\n",
              "      <th>station</th>\n",
              "    </tr>\n",
              "  </thead>\n",
              "  <tbody>\n",
              "    <tr>\n",
              "      <th>0</th>\n",
              "      <td>1</td>\n",
              "      <td>2013</td>\n",
              "      <td>3</td>\n",
              "      <td>1</td>\n",
              "      <td>0</td>\n",
              "      <td>4.0</td>\n",
              "      <td>4.0</td>\n",
              "      <td>4.0</td>\n",
              "      <td>7.0</td>\n",
              "      <td>300.0</td>\n",
              "      <td>77.0</td>\n",
              "      <td>-0.7</td>\n",
              "      <td>1023.0</td>\n",
              "      <td>-18.8</td>\n",
              "      <td>0.0</td>\n",
              "      <td>NNW</td>\n",
              "      <td>4.4</td>\n",
              "      <td>Aotizhongxin</td>\n",
              "    </tr>\n",
              "    <tr>\n",
              "      <th>1</th>\n",
              "      <td>2</td>\n",
              "      <td>2013</td>\n",
              "      <td>3</td>\n",
              "      <td>1</td>\n",
              "      <td>1</td>\n",
              "      <td>8.0</td>\n",
              "      <td>8.0</td>\n",
              "      <td>4.0</td>\n",
              "      <td>7.0</td>\n",
              "      <td>300.0</td>\n",
              "      <td>77.0</td>\n",
              "      <td>-1.1</td>\n",
              "      <td>1023.2</td>\n",
              "      <td>-18.2</td>\n",
              "      <td>0.0</td>\n",
              "      <td>N</td>\n",
              "      <td>4.7</td>\n",
              "      <td>Aotizhongxin</td>\n",
              "    </tr>\n",
              "    <tr>\n",
              "      <th>2</th>\n",
              "      <td>3</td>\n",
              "      <td>2013</td>\n",
              "      <td>3</td>\n",
              "      <td>1</td>\n",
              "      <td>2</td>\n",
              "      <td>7.0</td>\n",
              "      <td>7.0</td>\n",
              "      <td>5.0</td>\n",
              "      <td>10.0</td>\n",
              "      <td>300.0</td>\n",
              "      <td>73.0</td>\n",
              "      <td>-1.1</td>\n",
              "      <td>1023.5</td>\n",
              "      <td>-18.2</td>\n",
              "      <td>0.0</td>\n",
              "      <td>NNW</td>\n",
              "      <td>5.6</td>\n",
              "      <td>Aotizhongxin</td>\n",
              "    </tr>\n",
              "    <tr>\n",
              "      <th>3</th>\n",
              "      <td>4</td>\n",
              "      <td>2013</td>\n",
              "      <td>3</td>\n",
              "      <td>1</td>\n",
              "      <td>3</td>\n",
              "      <td>6.0</td>\n",
              "      <td>6.0</td>\n",
              "      <td>11.0</td>\n",
              "      <td>11.0</td>\n",
              "      <td>300.0</td>\n",
              "      <td>72.0</td>\n",
              "      <td>-1.4</td>\n",
              "      <td>1024.5</td>\n",
              "      <td>-19.4</td>\n",
              "      <td>0.0</td>\n",
              "      <td>NW</td>\n",
              "      <td>3.1</td>\n",
              "      <td>Aotizhongxin</td>\n",
              "    </tr>\n",
              "    <tr>\n",
              "      <th>4</th>\n",
              "      <td>5</td>\n",
              "      <td>2013</td>\n",
              "      <td>3</td>\n",
              "      <td>1</td>\n",
              "      <td>4</td>\n",
              "      <td>3.0</td>\n",
              "      <td>3.0</td>\n",
              "      <td>12.0</td>\n",
              "      <td>12.0</td>\n",
              "      <td>300.0</td>\n",
              "      <td>72.0</td>\n",
              "      <td>-2.0</td>\n",
              "      <td>1025.2</td>\n",
              "      <td>-19.5</td>\n",
              "      <td>0.0</td>\n",
              "      <td>N</td>\n",
              "      <td>2.0</td>\n",
              "      <td>Aotizhongxin</td>\n",
              "    </tr>\n",
              "    <tr>\n",
              "      <th>...</th>\n",
              "      <td>...</td>\n",
              "      <td>...</td>\n",
              "      <td>...</td>\n",
              "      <td>...</td>\n",
              "      <td>...</td>\n",
              "      <td>...</td>\n",
              "      <td>...</td>\n",
              "      <td>...</td>\n",
              "      <td>...</td>\n",
              "      <td>...</td>\n",
              "      <td>...</td>\n",
              "      <td>...</td>\n",
              "      <td>...</td>\n",
              "      <td>...</td>\n",
              "      <td>...</td>\n",
              "      <td>...</td>\n",
              "      <td>...</td>\n",
              "      <td>...</td>\n",
              "    </tr>\n",
              "    <tr>\n",
              "      <th>35059</th>\n",
              "      <td>35060</td>\n",
              "      <td>2017</td>\n",
              "      <td>2</td>\n",
              "      <td>28</td>\n",
              "      <td>19</td>\n",
              "      <td>12.0</td>\n",
              "      <td>29.0</td>\n",
              "      <td>5.0</td>\n",
              "      <td>35.0</td>\n",
              "      <td>400.0</td>\n",
              "      <td>95.0</td>\n",
              "      <td>12.5</td>\n",
              "      <td>1013.5</td>\n",
              "      <td>-16.2</td>\n",
              "      <td>0.0</td>\n",
              "      <td>NW</td>\n",
              "      <td>2.4</td>\n",
              "      <td>Aotizhongxin</td>\n",
              "    </tr>\n",
              "    <tr>\n",
              "      <th>35060</th>\n",
              "      <td>35061</td>\n",
              "      <td>2017</td>\n",
              "      <td>2</td>\n",
              "      <td>28</td>\n",
              "      <td>20</td>\n",
              "      <td>13.0</td>\n",
              "      <td>37.0</td>\n",
              "      <td>7.0</td>\n",
              "      <td>45.0</td>\n",
              "      <td>500.0</td>\n",
              "      <td>81.0</td>\n",
              "      <td>11.6</td>\n",
              "      <td>1013.6</td>\n",
              "      <td>-15.1</td>\n",
              "      <td>0.0</td>\n",
              "      <td>WNW</td>\n",
              "      <td>0.9</td>\n",
              "      <td>Aotizhongxin</td>\n",
              "    </tr>\n",
              "    <tr>\n",
              "      <th>35061</th>\n",
              "      <td>35062</td>\n",
              "      <td>2017</td>\n",
              "      <td>2</td>\n",
              "      <td>28</td>\n",
              "      <td>21</td>\n",
              "      <td>16.0</td>\n",
              "      <td>37.0</td>\n",
              "      <td>10.0</td>\n",
              "      <td>66.0</td>\n",
              "      <td>700.0</td>\n",
              "      <td>58.0</td>\n",
              "      <td>10.8</td>\n",
              "      <td>1014.2</td>\n",
              "      <td>-13.3</td>\n",
              "      <td>0.0</td>\n",
              "      <td>NW</td>\n",
              "      <td>1.1</td>\n",
              "      <td>Aotizhongxin</td>\n",
              "    </tr>\n",
              "    <tr>\n",
              "      <th>35062</th>\n",
              "      <td>35063</td>\n",
              "      <td>2017</td>\n",
              "      <td>2</td>\n",
              "      <td>28</td>\n",
              "      <td>22</td>\n",
              "      <td>21.0</td>\n",
              "      <td>44.0</td>\n",
              "      <td>12.0</td>\n",
              "      <td>87.0</td>\n",
              "      <td>700.0</td>\n",
              "      <td>35.0</td>\n",
              "      <td>10.5</td>\n",
              "      <td>1014.4</td>\n",
              "      <td>-12.9</td>\n",
              "      <td>0.0</td>\n",
              "      <td>NNW</td>\n",
              "      <td>1.2</td>\n",
              "      <td>Aotizhongxin</td>\n",
              "    </tr>\n",
              "    <tr>\n",
              "      <th>35063</th>\n",
              "      <td>35064</td>\n",
              "      <td>2017</td>\n",
              "      <td>2</td>\n",
              "      <td>28</td>\n",
              "      <td>23</td>\n",
              "      <td>19.0</td>\n",
              "      <td>31.0</td>\n",
              "      <td>10.0</td>\n",
              "      <td>79.0</td>\n",
              "      <td>600.0</td>\n",
              "      <td>42.0</td>\n",
              "      <td>8.6</td>\n",
              "      <td>1014.1</td>\n",
              "      <td>-15.9</td>\n",
              "      <td>0.0</td>\n",
              "      <td>NNE</td>\n",
              "      <td>1.3</td>\n",
              "      <td>Aotizhongxin</td>\n",
              "    </tr>\n",
              "  </tbody>\n",
              "</table>\n",
              "<p>31815 rows × 18 columns</p>\n",
              "</div>\n",
              "      <button class=\"colab-df-convert\" onclick=\"convertToInteractive('df-7ed3d256-2ac3-44db-978f-597d2360765f')\"\n",
              "              title=\"Convert this dataframe to an interactive table.\"\n",
              "              style=\"display:none;\">\n",
              "        \n",
              "  <svg xmlns=\"http://www.w3.org/2000/svg\" height=\"24px\"viewBox=\"0 0 24 24\"\n",
              "       width=\"24px\">\n",
              "    <path d=\"M0 0h24v24H0V0z\" fill=\"none\"/>\n",
              "    <path d=\"M18.56 5.44l.94 2.06.94-2.06 2.06-.94-2.06-.94-.94-2.06-.94 2.06-2.06.94zm-11 1L8.5 8.5l.94-2.06 2.06-.94-2.06-.94L8.5 2.5l-.94 2.06-2.06.94zm10 10l.94 2.06.94-2.06 2.06-.94-2.06-.94-.94-2.06-.94 2.06-2.06.94z\"/><path d=\"M17.41 7.96l-1.37-1.37c-.4-.4-.92-.59-1.43-.59-.52 0-1.04.2-1.43.59L10.3 9.45l-7.72 7.72c-.78.78-.78 2.05 0 2.83L4 21.41c.39.39.9.59 1.41.59.51 0 1.02-.2 1.41-.59l7.78-7.78 2.81-2.81c.8-.78.8-2.07 0-2.86zM5.41 20L4 18.59l7.72-7.72 1.47 1.35L5.41 20z\"/>\n",
              "  </svg>\n",
              "      </button>\n",
              "      \n",
              "  <style>\n",
              "    .colab-df-container {\n",
              "      display:flex;\n",
              "      flex-wrap:wrap;\n",
              "      gap: 12px;\n",
              "    }\n",
              "\n",
              "    .colab-df-convert {\n",
              "      background-color: #E8F0FE;\n",
              "      border: none;\n",
              "      border-radius: 50%;\n",
              "      cursor: pointer;\n",
              "      display: none;\n",
              "      fill: #1967D2;\n",
              "      height: 32px;\n",
              "      padding: 0 0 0 0;\n",
              "      width: 32px;\n",
              "    }\n",
              "\n",
              "    .colab-df-convert:hover {\n",
              "      background-color: #E2EBFA;\n",
              "      box-shadow: 0px 1px 2px rgba(60, 64, 67, 0.3), 0px 1px 3px 1px rgba(60, 64, 67, 0.15);\n",
              "      fill: #174EA6;\n",
              "    }\n",
              "\n",
              "    [theme=dark] .colab-df-convert {\n",
              "      background-color: #3B4455;\n",
              "      fill: #D2E3FC;\n",
              "    }\n",
              "\n",
              "    [theme=dark] .colab-df-convert:hover {\n",
              "      background-color: #434B5C;\n",
              "      box-shadow: 0px 1px 3px 1px rgba(0, 0, 0, 0.15);\n",
              "      filter: drop-shadow(0px 1px 2px rgba(0, 0, 0, 0.3));\n",
              "      fill: #FFFFFF;\n",
              "    }\n",
              "  </style>\n",
              "\n",
              "      <script>\n",
              "        const buttonEl =\n",
              "          document.querySelector('#df-7ed3d256-2ac3-44db-978f-597d2360765f button.colab-df-convert');\n",
              "        buttonEl.style.display =\n",
              "          google.colab.kernel.accessAllowed ? 'block' : 'none';\n",
              "\n",
              "        async function convertToInteractive(key) {\n",
              "          const element = document.querySelector('#df-7ed3d256-2ac3-44db-978f-597d2360765f');\n",
              "          const dataTable =\n",
              "            await google.colab.kernel.invokeFunction('convertToInteractive',\n",
              "                                                     [key], {});\n",
              "          if (!dataTable) return;\n",
              "\n",
              "          const docLinkHtml = 'Like what you see? Visit the ' +\n",
              "            '<a target=\"_blank\" href=https://colab.research.google.com/notebooks/data_table.ipynb>data table notebook</a>'\n",
              "            + ' to learn more about interactive tables.';\n",
              "          element.innerHTML = '';\n",
              "          dataTable['output_type'] = 'display_data';\n",
              "          await google.colab.output.renderOutput(dataTable, element);\n",
              "          const docLink = document.createElement('div');\n",
              "          docLink.innerHTML = docLinkHtml;\n",
              "          element.appendChild(docLink);\n",
              "        }\n",
              "      </script>\n",
              "    </div>\n",
              "  </div>\n",
              "  "
            ],
            "text/plain": [
              "          No  year  month  day  hour  ...  DEWP  RAIN   wd  WSPM       station\n",
              "0          1  2013      3    1     0  ... -18.8   0.0  NNW   4.4  Aotizhongxin\n",
              "1          2  2013      3    1     1  ... -18.2   0.0    N   4.7  Aotizhongxin\n",
              "2          3  2013      3    1     2  ... -18.2   0.0  NNW   5.6  Aotizhongxin\n",
              "3          4  2013      3    1     3  ... -19.4   0.0   NW   3.1  Aotizhongxin\n",
              "4          5  2013      3    1     4  ... -19.5   0.0    N   2.0  Aotizhongxin\n",
              "...      ...   ...    ...  ...   ...  ...   ...   ...  ...   ...           ...\n",
              "35059  35060  2017      2   28    19  ... -16.2   0.0   NW   2.4  Aotizhongxin\n",
              "35060  35061  2017      2   28    20  ... -15.1   0.0  WNW   0.9  Aotizhongxin\n",
              "35061  35062  2017      2   28    21  ... -13.3   0.0   NW   1.1  Aotizhongxin\n",
              "35062  35063  2017      2   28    22  ... -12.9   0.0  NNW   1.2  Aotizhongxin\n",
              "35063  35064  2017      2   28    23  ... -15.9   0.0  NNE   1.3  Aotizhongxin\n",
              "\n",
              "[31815 rows x 18 columns]"
            ]
          },
          "metadata": {},
          "execution_count": 3
        }
      ]
    },
    {
      "cell_type": "markdown",
      "metadata": {
        "id": "7AnH6VY-W09n"
      },
      "source": [
        "# Part 2: Format data and split it into numpy arrays"
      ]
    },
    {
      "cell_type": "code",
      "metadata": {
        "id": "OaRBLIHNdrSN"
      },
      "source": [
        "# AUX function to put categorical data into one-hot encoding format\n",
        "from sklearn.preprocessing import OneHotEncoder\n",
        "def winddir_to_categorical(winddir):\n",
        "  enc = OneHotEncoder(sparse=False)\n",
        "  WD = enc.fit_transform(winddir)\n",
        "  print(\"== categories:\", enc.categories_, \"==\")\n",
        "  return WD, [item for sublist in enc.categories_ for item in sublist]"
      ],
      "execution_count": null,
      "outputs": []
    },
    {
      "cell_type": "code",
      "metadata": {
        "id": "dFhZ5cEGSk2e",
        "colab": {
          "base_uri": "https://localhost:8080/",
          "height": 285
        },
        "outputId": "3f4a275f-6f38-4afa-8a79-a060f4e330d2"
      },
      "source": [
        "# Extract input features and convert them to a numpy array\n",
        "labels = ['month',\t'day',\t'hour', 'SO2',\t'NO2',\t'CO',\t'O3', 'TEMP', 'PRES', 'DEWP', 'RAIN', 'WSPM' ]\n",
        "X = df[labels].to_numpy()\n",
        "WD, categories = winddir_to_categorical(df[['wd']])\n",
        "X = np.concatenate((X, WD), axis=1)\n",
        "\n",
        "print(f\"Input values X with shape {X.shape}. With values\")\n",
        "\n",
        "plt.figure(figsize=(8, 3))\n",
        "plt.boxplot(X)\n",
        "plt.xticks(range(1, 29), labels + categories, rotation=90)\n",
        "plt.show()"
      ],
      "execution_count": null,
      "outputs": [
        {
          "output_type": "stream",
          "name": "stdout",
          "text": [
            "== categories: [array(['E', 'ENE', 'ESE', 'N', 'NE', 'NNE', 'NNW', 'NW', 'S', 'SE', 'SSE',\n",
            "       'SSW', 'SW', 'W', 'WNW', 'WSW'], dtype=object)] ==\n",
            "Input values X with shape (31815, 28). With values\n"
          ]
        },
        {
          "output_type": "display_data",
          "data": {
            "image/png": "[encoded data removed]",
            "text/plain": [
              "<Figure size 576x216 with 1 Axes>"
            ]
          },
          "metadata": {
            "needs_background": "light"
          }
        }
      ]
    },
    {
      "cell_type": "code",
      "metadata": {
        "id": "MwImDcVGg5O7",
        "colab": {
          "base_uri": "https://localhost:8080/",
          "height": 233
        },
        "outputId": "0f803c9f-189c-46a4-b776-6d27c273e57c"
      },
      "source": [
        "# Normalize (zero-center) and standardize (scale) input data\n",
        "from sklearn.preprocessing import MinMaxScaler\n",
        "scalerX = MinMaxScaler()\n",
        "X = scalerX.fit_transform(X)\n",
        "\n",
        "plt.figure(figsize=(8, 3))\n",
        "plt.boxplot(X)\n",
        "plt.xticks(range(1, 29), labels + categories, rotation=90)\n",
        "plt.show()"
      ],
      "execution_count": null,
      "outputs": [
        {
          "output_type": "display_data",
          "data": {
            "image/png": "[encoded data removed]",
            "text/plain": [
              "<Figure size 576x216 with 1 Axes>"
            ]
          },
          "metadata": {
            "needs_background": "light"
          }
        }
      ]
    },
    {
      "cell_type": "code",
      "metadata": {
        "id": "dA2VIaEEHGwA",
        "colab": {
          "base_uri": "https://localhost:8080/",
          "height": 319
        },
        "outputId": "a8b8f3d2-ac5d-4ed0-b9a3-cb5a3e06706d"
      },
      "source": [
        "# Extract output features and convert them to a numpy array\n",
        "Y = df[['PM2.5', 'PM10']].to_numpy()\n",
        "\n",
        "print(f\"Target values Y with shape {Y.shape}. With values\")\n",
        "print(f\" min = {Y.min(axis=0)}\")\n",
        "print(f\" mean = {Y.mean(axis=0)}\")\n",
        "print(f\" stdd = {Y.std(axis=0)}\")\n",
        "print(f\" max = {Y.max(axis=0)}\")\n",
        "\n",
        "plt.figure(figsize=(8, 3))\n",
        "plt.boxplot(Y)\n",
        "plt.xticks(range(1, 3), ['PM2.5', 'PM10'], rotation=90)\n",
        "plt.show()"
      ],
      "execution_count": null,
      "outputs": [
        {
          "output_type": "stream",
          "name": "stdout",
          "text": [
            "Target values Y with shape (31815, 2). With values\n",
            " min = [3. 2.]\n",
            " mean = [ 81.86363036 109.12068521]\n",
            " stdd = [80.44822547 93.71654394]\n",
            " max = [713. 948.]\n"
          ]
        },
        {
          "output_type": "display_data",
          "data": {
            "image/png": "[encoded data removed]",
            "text/plain": [
              "<Figure size 576x216 with 1 Axes>"
            ]
          },
          "metadata": {
            "needs_background": "light"
          }
        }
      ]
    },
    {
      "cell_type": "code",
      "metadata": {
        "id": "d4nkvcV3MmC9",
        "colab": {
          "base_uri": "https://localhost:8080/",
          "height": 301
        },
        "outputId": "7c714839-5a12-4c14-844b-f66b08fdb8a3"
      },
      "source": [
        "# Normalize (zero-center) and standardize (scale) output data\n",
        "scalerY = MinMaxScaler()\n",
        "Y = scalerY.fit_transform(Y)\n",
        "\n",
        "print(f\" min = {Y.min(axis=0)}\")\n",
        "print(f\" mean = {Y.mean(axis=0)}\")\n",
        "print(f\" stdd = {Y.std(axis=0)}\")\n",
        "print(f\" max = {Y.max(axis=0)}\")\n",
        "\n",
        "plt.figure(figsize=(8, 3))\n",
        "plt.boxplot(Y)\n",
        "plt.xticks(range(1, 3), ['PM2.5', 'PM10'], rotation=90)\n",
        "plt.show()"
      ],
      "execution_count": null,
      "outputs": [
        {
          "output_type": "stream",
          "name": "stdout",
          "text": [
            " min = [0. 0.]\n",
            " mean = [0.11107554 0.1132354 ]\n",
            " stdd = [0.11330736 0.09906611]\n",
            " max = [1. 1.]\n"
          ]
        },
        {
          "output_type": "display_data",
          "data": {
            "image/png": "[encoded data removed]",
            "text/plain": [
              "<Figure size 576x216 with 1 Axes>"
            ]
          },
          "metadata": {
            "needs_background": "light"
          }
        }
      ]
    },
    {
      "cell_type": "code",
      "metadata": {
        "id": "zAKGr2d4W_OU",
        "colab": {
          "base_uri": "https://localhost:8080/"
        },
        "outputId": "2cfe6446-947a-47d3-d0b8-5e33f974b877"
      },
      "source": [
        "# Split data into train+val and test sets\n",
        "from sklearn.model_selection import train_test_split\n",
        "x_train, x_test, y_train, y_test = train_test_split(X, Y, test_size=0.05)\n",
        "\n",
        "print(x_train.shape)\n",
        "print(y_train.shape)\n",
        "print(x_test.shape)\n",
        "print(y_test.shape)"
      ],
      "execution_count": null,
      "outputs": [
        {
          "output_type": "stream",
          "name": "stdout",
          "text": [
            "(30224, 28)\n",
            "(30224, 2)\n",
            "(1591, 28)\n",
            "(1591, 2)\n"
          ]
        }
      ]
    },
    {
      "cell_type": "code",
      "metadata": {
        "id": "7dQRDsU4znyI",
        "colab": {
          "base_uri": "https://localhost:8080/",
          "height": 295
        },
        "outputId": "5c519984-dbc9-4fd5-84cf-be1bed20df19"
      },
      "source": [
        "# Plot y_test\n",
        "# Esta gráfica es para ver sólo si los sets de entrenamiento y test cubren las mismas\n",
        "# áreas (¿tienen la misma distribución?). No se espera que los puntos coincidan ya que\n",
        "# son dos sets distintos.\n",
        "plt.scatter(y_train[:, 0], y_train[:, 1], c='r', s=2, label='y_train')\n",
        "plt.scatter(y_test[:, 0], y_test[:, 1], c='b', s=2, label='y_test')\n",
        "\n",
        "plt.legend()\n",
        "plt.grid(True)\n",
        "plt.xlabel('PM2.5')\n",
        "plt.ylabel('PM10')\n",
        "plt.title('Outputs')\n",
        "plt.show()"
      ],
      "execution_count": null,
      "outputs": [
        {
          "output_type": "display_data",
          "data": {
            "image/png": "[encoded data removed]",
            "text/plain": [
              "<Figure size 432x288 with 1 Axes>"
            ]
          },
          "metadata": {
            "needs_background": "light"
          }
        }
      ]
    },
    {
      "cell_type": "markdown",
      "metadata": {
        "id": "dreChfyNYqsB"
      },
      "source": [
        "# Part 3: Create DNN model and train it"
      ]
    },
    {
      "cell_type": "code",
      "metadata": {
        "id": "JO90QIV_HZyX"
      },
      "source": [
        "# tensorflow imports\n",
        "import tensorflow as tf\n",
        "from tensorflow.keras.models import Sequential\n",
        "from tensorflow.keras.layers import InputLayer, Dense"
      ],
      "execution_count": null,
      "outputs": []
    },
    {
      "cell_type": "code",
      "metadata": {
        "id": "ENX7lCg3Ido4",
        "colab": {
          "base_uri": "https://localhost:8080/"
        },
        "outputId": "6a75b429-3c20-4bd5-b1ea-11814064cf4d"
      },
      "source": [
        "# Create a Deep Network\n",
        "DNN = Sequential()\n",
        "DNN.add(InputLayer(input_shape=X.shape[1:], name='INPUT'))\n",
        "\n",
        "DNN.add(Dense(units=256, activation='relu'))\n",
        "DNN.add(Dense(units=512, activation='relu'))\n",
        "DNN.add(Dense(units=1024, activation='relu'))\n",
        "DNN.add(Dense(units=512, activation='relu'))\n",
        "DNN.add(Dense(units=256, activation='relu'))\n",
        "\n",
        "DNN.add(Dense(units=Y.shape[1], activation='linear', name='OUTPUT'))\n",
        "\n",
        "DNN.summary()"
      ],
      "execution_count": null,
      "outputs": [
        {
          "output_type": "stream",
          "name": "stdout",
          "text": [
            "Model: \"sequential\"\n",
            "_________________________________________________________________\n",
            " Layer (type)                Output Shape              Param #   \n",
            "=================================================================\n",
            " dense (Dense)               (None, 256)               7424      \n",
            "                                                                 \n",
            " dense_1 (Dense)             (None, 512)               131584    \n",
            "                                                                 \n",
            " dense_2 (Dense)             (None, 1024)              525312    \n",
            "                                                                 \n",
            " dense_3 (Dense)             (None, 512)               524800    \n",
            "                                                                 \n",
            " dense_4 (Dense)             (None, 256)               131328    \n",
            "                                                                 \n",
            " OUTPUT (Dense)              (None, 2)                 514       \n",
            "                                                                 \n",
            "=================================================================\n",
            "Total params: 1,320,962\n",
            "Trainable params: 1,320,962\n",
            "Non-trainable params: 0\n",
            "_________________________________________________________________\n"
          ]
        }
      ]
    },
    {
      "cell_type": "code",
      "source": [
        "def r_square(y, y_hat):\n",
        "  \"\"\" Define R square loss, to use it as metric during training\n",
        "  \"\"\"\n",
        "  residual = tf.reduce_sum(tf.square(tf.subtract(y, y_hat)))\n",
        "  total = tf.reduce_sum(tf.square(tf.subtract(y, tf.reduce_mean(y))))\n",
        "  return tf.subtract(1.0, residual / total)"
      ],
      "metadata": {
        "id": "KWzdmn_gJDBW"
      },
      "execution_count": null,
      "outputs": []
    },
    {
      "cell_type": "code",
      "source": [
        "def my_mse(y, y_hat):\n",
        "  \"\"\" Define MSE loss, to use it as loss function\n",
        "  \"\"\"\n",
        "  return tf.reduce_mean(tf.square(y - y_hat))"
      ],
      "metadata": {
        "id": "fZ_ThBsBet0H"
      },
      "execution_count": null,
      "outputs": []
    },
    {
      "cell_type": "code",
      "metadata": {
        "id": "Y8TlQWPOVfxw"
      },
      "source": [
        "# Define training parameters\n",
        "# Option 1:\n",
        "#from tensorflow.keras.optimizers import SGD\n",
        "#sgd = SGD(learning_rate=0.02, momentum=0.6)\n",
        "#DNN.compile(optimizer=sgd, loss='mse')\n",
        "\n",
        "# Option 2:\n",
        "DNN.compile(optimizer='adam', loss=my_mse, metrics=['mape', r_square])\n",
        "\n",
        "# Try with different optimizers\n",
        "#DNN.compile(optimizer=???, loss='mse')"
      ],
      "execution_count": null,
      "outputs": []
    },
    {
      "cell_type": "code",
      "source": [
        "# Train model\n",
        "DNN.fit(x=x_train, y=y_train, batch_size=128, epochs=100, validation_split=0.1)"
      ],
      "metadata": {
        "colab": {
          "base_uri": "https://localhost:8080/"
        },
        "id": "wGzdI7gJMYRt",
        "outputId": "42be1c7a-4f29-4d30-ba77-7e8d5b2347fd"
      },
      "execution_count": null,
      "outputs": [
        {
          "output_type": "stream",
          "name": "stdout",
          "text": [
            "Epoch 1/100\n",
            "213/213 [==============================] - 5s 8ms/step - loss: 0.0049 - mape: 210447.7344 - r_square: 0.5586 - val_loss: 0.0030 - val_mape: 196592.1875 - val_r_square: 0.7239\n",
            "Epoch 2/100\n",
            "213/213 [==============================] - 1s 7ms/step - loss: 0.0034 - mape: 152697.8594 - r_square: 0.6977 - val_loss: 0.0030 - val_mape: 219162.3125 - val_r_square: 0.7177\n",
            "Epoch 3/100\n",
            "213/213 [==============================] - 1s 6ms/step - loss: 0.0033 - mape: 158988.4062 - r_square: 0.7112 - val_loss: 0.0027 - val_mape: 167979.6094 - val_r_square: 0.7472\n",
            "Epoch 4/100\n",
            "213/213 [==============================] - 1s 6ms/step - loss: 0.0031 - mape: 149650.6406 - r_square: 0.7270 - val_loss: 0.0026 - val_mape: 174708.3594 - val_r_square: 0.7573\n",
            "Epoch 5/100\n",
            "213/213 [==============================] - 1s 7ms/step - loss: 0.0028 - mape: 148472.5156 - r_square: 0.7502 - val_loss: 0.0029 - val_mape: 190188.9062 - val_r_square: 0.7302\n",
            "Epoch 6/100\n",
            "213/213 [==============================] - 1s 6ms/step - loss: 0.0027 - mape: 142327.9375 - r_square: 0.7553 - val_loss: 0.0025 - val_mape: 174720.7969 - val_r_square: 0.7618\n",
            "Epoch 7/100\n",
            "213/213 [==============================] - 1s 6ms/step - loss: 0.0026 - mape: 150365.6094 - r_square: 0.7712 - val_loss: 0.0024 - val_mape: 184023.1250 - val_r_square: 0.7742\n",
            "Epoch 8/100\n",
            "213/213 [==============================] - 1s 7ms/step - loss: 0.0025 - mape: 150831.6562 - r_square: 0.7720 - val_loss: 0.0026 - val_mape: 163281.7656 - val_r_square: 0.7567\n",
            "Epoch 9/100\n",
            "213/213 [==============================] - 1s 6ms/step - loss: 0.0024 - mape: 142507.0938 - r_square: 0.7873 - val_loss: 0.0023 - val_mape: 132484.1562 - val_r_square: 0.7850\n",
            "Epoch 10/100\n",
            "213/213 [==============================] - 1s 6ms/step - loss: 0.0023 - mape: 137760.4062 - r_square: 0.7912 - val_loss: 0.0023 - val_mape: 195498.3438 - val_r_square: 0.7829\n",
            "Epoch 11/100\n",
            "213/213 [==============================] - 1s 7ms/step - loss: 0.0022 - mape: 136965.1250 - r_square: 0.8015 - val_loss: 0.0023 - val_mape: 179689.8281 - val_r_square: 0.7832\n",
            "Epoch 12/100\n",
            "213/213 [==============================] - 2s 8ms/step - loss: 0.0022 - mape: 133985.1094 - r_square: 0.8022 - val_loss: 0.0022 - val_mape: 162117.9844 - val_r_square: 0.7893\n",
            "Epoch 13/100\n",
            "213/213 [==============================] - 2s 8ms/step - loss: 0.0021 - mape: 140200.2344 - r_square: 0.8081 - val_loss: 0.0022 - val_mape: 149540.7500 - val_r_square: 0.7962\n",
            "Epoch 14/100\n",
            "213/213 [==============================] - 1s 6ms/step - loss: 0.0021 - mape: 140864.2969 - r_square: 0.8135 - val_loss: 0.0022 - val_mape: 174988.5938 - val_r_square: 0.7946\n",
            "Epoch 15/100\n",
            "213/213 [==============================] - 1s 6ms/step - loss: 0.0020 - mape: 130457.2344 - r_square: 0.8218 - val_loss: 0.0021 - val_mape: 133431.8750 - val_r_square: 0.7972\n",
            "Epoch 16/100\n",
            "213/213 [==============================] - 1s 7ms/step - loss: 0.0019 - mape: 130388.6016 - r_square: 0.8272 - val_loss: 0.0021 - val_mape: 113415.7812 - val_r_square: 0.7998\n",
            "Epoch 17/100\n",
            "213/213 [==============================] - 1s 7ms/step - loss: 0.0019 - mape: 130437.6875 - r_square: 0.8300 - val_loss: 0.0023 - val_mape: 125698.5000 - val_r_square: 0.7859\n",
            "Epoch 18/100\n",
            "213/213 [==============================] - 1s 6ms/step - loss: 0.0018 - mape: 133902.8438 - r_square: 0.8364 - val_loss: 0.0022 - val_mape: 193745.7031 - val_r_square: 0.7992\n",
            "Epoch 19/100\n",
            "213/213 [==============================] - 1s 6ms/step - loss: 0.0017 - mape: 126748.6797 - r_square: 0.8455 - val_loss: 0.0021 - val_mape: 145120.3750 - val_r_square: 0.8035\n",
            "Epoch 20/100\n",
            "213/213 [==============================] - 1s 7ms/step - loss: 0.0017 - mape: 125251.2578 - r_square: 0.8464 - val_loss: 0.0021 - val_mape: 137058.6250 - val_r_square: 0.8027\n",
            "Epoch 21/100\n",
            "213/213 [==============================] - 1s 6ms/step - loss: 0.0018 - mape: 131925.9688 - r_square: 0.8397 - val_loss: 0.0022 - val_mape: 135152.4062 - val_r_square: 0.7929\n",
            "Epoch 22/100\n",
            "213/213 [==============================] - 1s 7ms/step - loss: 0.0016 - mape: 122235.0078 - r_square: 0.8558 - val_loss: 0.0020 - val_mape: 129898.7734 - val_r_square: 0.8089\n",
            "Epoch 23/100\n",
            "213/213 [==============================] - 1s 6ms/step - loss: 0.0015 - mape: 125128.1406 - r_square: 0.8627 - val_loss: 0.0019 - val_mape: 156573.1562 - val_r_square: 0.8166\n",
            "Epoch 24/100\n",
            "213/213 [==============================] - 1s 6ms/step - loss: 0.0014 - mape: 122200.5859 - r_square: 0.8694 - val_loss: 0.0021 - val_mape: 154140.6719 - val_r_square: 0.8055\n",
            "Epoch 25/100\n",
            "213/213 [==============================] - 1s 7ms/step - loss: 0.0014 - mape: 122442.1797 - r_square: 0.8690 - val_loss: 0.0019 - val_mape: 150661.5938 - val_r_square: 0.8174\n",
            "Epoch 26/100\n",
            "213/213 [==============================] - 1s 6ms/step - loss: 0.0014 - mape: 121538.7188 - r_square: 0.8701 - val_loss: 0.0020 - val_mape: 163448.7656 - val_r_square: 0.8087\n",
            "Epoch 27/100\n",
            "213/213 [==============================] - 1s 6ms/step - loss: 0.0014 - mape: 124473.6562 - r_square: 0.8724 - val_loss: 0.0020 - val_mape: 120499.0312 - val_r_square: 0.8118\n",
            "Epoch 28/100\n",
            "213/213 [==============================] - 1s 7ms/step - loss: 0.0013 - mape: 117936.7344 - r_square: 0.8816 - val_loss: 0.0019 - val_mape: 147437.3438 - val_r_square: 0.8172\n",
            "Epoch 29/100\n",
            "213/213 [==============================] - 1s 6ms/step - loss: 0.0013 - mape: 119088.1094 - r_square: 0.8861 - val_loss: 0.0018 - val_mape: 107578.4453 - val_r_square: 0.8273\n",
            "Epoch 30/100\n",
            "213/213 [==============================] - 1s 7ms/step - loss: 0.0012 - mape: 116027.5625 - r_square: 0.8909 - val_loss: 0.0018 - val_mape: 129345.3984 - val_r_square: 0.8284\n",
            "Epoch 31/100\n",
            "213/213 [==============================] - 1s 7ms/step - loss: 0.0012 - mape: 117417.9219 - r_square: 0.8934 - val_loss: 0.0018 - val_mape: 125879.4375 - val_r_square: 0.8297\n",
            "Epoch 32/100\n",
            "213/213 [==============================] - 1s 6ms/step - loss: 0.0012 - mape: 114181.1484 - r_square: 0.8875 - val_loss: 0.0020 - val_mape: 141331.8438 - val_r_square: 0.8169\n",
            "Epoch 33/100\n",
            "213/213 [==============================] - 1s 6ms/step - loss: 0.0011 - mape: 112828.8203 - r_square: 0.8963 - val_loss: 0.0019 - val_mape: 151966.6875 - val_r_square: 0.8189\n",
            "Epoch 34/100\n",
            "213/213 [==============================] - 1s 6ms/step - loss: 0.0010 - mape: 112421.1016 - r_square: 0.9065 - val_loss: 0.0019 - val_mape: 175538.7344 - val_r_square: 0.8239\n",
            "Epoch 35/100\n",
            "213/213 [==============================] - 1s 6ms/step - loss: 0.0010 - mape: 108053.7031 - r_square: 0.9088 - val_loss: 0.0019 - val_mape: 154907.1250 - val_r_square: 0.8226\n",
            "Epoch 36/100\n",
            "213/213 [==============================] - 2s 7ms/step - loss: 9.9489e-04 - mape: 107554.1797 - r_square: 0.9090 - val_loss: 0.0017 - val_mape: 166577.8594 - val_r_square: 0.8363\n",
            "Epoch 37/100\n",
            "213/213 [==============================] - 2s 7ms/step - loss: 9.3666e-04 - mape: 109172.2422 - r_square: 0.9144 - val_loss: 0.0018 - val_mape: 121264.0469 - val_r_square: 0.8278\n",
            "Epoch 38/100\n",
            "213/213 [==============================] - 2s 8ms/step - loss: 8.9909e-04 - mape: 106742.1094 - r_square: 0.9168 - val_loss: 0.0019 - val_mape: 100252.5156 - val_r_square: 0.8224\n",
            "Epoch 39/100\n",
            "213/213 [==============================] - 2s 8ms/step - loss: 9.3716e-04 - mape: 107436.2656 - r_square: 0.9154 - val_loss: 0.0018 - val_mape: 131084.3750 - val_r_square: 0.8265\n",
            "Epoch 40/100\n",
            "213/213 [==============================] - 2s 8ms/step - loss: 8.4618e-04 - mape: 104690.4375 - r_square: 0.9236 - val_loss: 0.0017 - val_mape: 137741.4062 - val_r_square: 0.8414\n",
            "Epoch 41/100\n",
            "213/213 [==============================] - 2s 8ms/step - loss: 8.6420e-04 - mape: 107704.9062 - r_square: 0.9200 - val_loss: 0.0019 - val_mape: 143264.4688 - val_r_square: 0.8192\n",
            "Epoch 42/100\n",
            "213/213 [==============================] - 2s 10ms/step - loss: 8.4873e-04 - mape: 104261.3984 - r_square: 0.9234 - val_loss: 0.0017 - val_mape: 110968.4453 - val_r_square: 0.8379\n",
            "Epoch 43/100\n",
            "213/213 [==============================] - 2s 8ms/step - loss: 7.6561e-04 - mape: 102436.2422 - r_square: 0.9305 - val_loss: 0.0019 - val_mape: 189512.2188 - val_r_square: 0.8223\n",
            "Epoch 44/100\n",
            "213/213 [==============================] - 2s 8ms/step - loss: 7.7896e-04 - mape: 100158.2578 - r_square: 0.9288 - val_loss: 0.0017 - val_mape: 127693.3359 - val_r_square: 0.8423\n",
            "Epoch 45/100\n",
            "213/213 [==============================] - 2s 8ms/step - loss: 7.0510e-04 - mape: 98873.9297 - r_square: 0.9358 - val_loss: 0.0017 - val_mape: 129397.7656 - val_r_square: 0.8423\n",
            "Epoch 46/100\n",
            "213/213 [==============================] - 2s 8ms/step - loss: 7.2183e-04 - mape: 98025.4688 - r_square: 0.9346 - val_loss: 0.0017 - val_mape: 112987.8516 - val_r_square: 0.8378\n",
            "Epoch 47/100\n",
            "213/213 [==============================] - 2s 8ms/step - loss: 6.8232e-04 - mape: 98480.2266 - r_square: 0.9376 - val_loss: 0.0018 - val_mape: 160695.0781 - val_r_square: 0.8313\n",
            "Epoch 48/100\n",
            "213/213 [==============================] - 1s 6ms/step - loss: 7.0092e-04 - mape: 97795.4062 - r_square: 0.9360 - val_loss: 0.0017 - val_mape: 123275.4609 - val_r_square: 0.8388\n",
            "Epoch 49/100\n",
            "213/213 [==============================] - 1s 6ms/step - loss: 6.8286e-04 - mape: 98011.7109 - r_square: 0.9382 - val_loss: 0.0016 - val_mape: 123167.4844 - val_r_square: 0.8521\n",
            "Epoch 50/100\n",
            "213/213 [==============================] - 1s 6ms/step - loss: 6.1044e-04 - mape: 94316.4766 - r_square: 0.9446 - val_loss: 0.0017 - val_mape: 108634.6016 - val_r_square: 0.8379\n",
            "Epoch 51/100\n",
            "213/213 [==============================] - 2s 10ms/step - loss: 6.5441e-04 - mape: 95930.4219 - r_square: 0.9409 - val_loss: 0.0018 - val_mape: 126003.9141 - val_r_square: 0.8254\n",
            "Epoch 52/100\n",
            "213/213 [==============================] - 2s 10ms/step - loss: 6.1233e-04 - mape: 91511.3594 - r_square: 0.9443 - val_loss: 0.0016 - val_mape: 118776.8203 - val_r_square: 0.8499\n",
            "Epoch 53/100\n",
            "213/213 [==============================] - 3s 12ms/step - loss: 5.3190e-04 - mape: 93954.5000 - r_square: 0.9517 - val_loss: 0.0017 - val_mape: 117269.0312 - val_r_square: 0.8416\n",
            "Epoch 54/100\n",
            "213/213 [==============================] - 2s 10ms/step - loss: 5.3861e-04 - mape: 89379.5625 - r_square: 0.9512 - val_loss: 0.0018 - val_mape: 96637.6484 - val_r_square: 0.8298\n",
            "Epoch 55/100\n",
            "213/213 [==============================] - 2s 10ms/step - loss: 5.6635e-04 - mape: 88419.2031 - r_square: 0.9490 - val_loss: 0.0017 - val_mape: 92959.9297 - val_r_square: 0.8364\n",
            "Epoch 56/100\n",
            "213/213 [==============================] - 2s 10ms/step - loss: 5.7000e-04 - mape: 89451.5547 - r_square: 0.9479 - val_loss: 0.0016 - val_mape: 130225.9531 - val_r_square: 0.8456\n",
            "Epoch 57/100\n",
            "213/213 [==============================] - 2s 9ms/step - loss: 5.1723e-04 - mape: 85520.4531 - r_square: 0.9530 - val_loss: 0.0017 - val_mape: 141959.6875 - val_r_square: 0.8399\n",
            "Epoch 58/100\n",
            "213/213 [==============================] - 2s 10ms/step - loss: 5.1672e-04 - mape: 87851.7422 - r_square: 0.9534 - val_loss: 0.0016 - val_mape: 142326.5312 - val_r_square: 0.8510\n",
            "Epoch 59/100\n",
            "213/213 [==============================] - 2s 9ms/step - loss: 4.6594e-04 - mape: 84068.1953 - r_square: 0.9578 - val_loss: 0.0016 - val_mape: 138179.5469 - val_r_square: 0.8456\n",
            "Epoch 60/100\n",
            "213/213 [==============================] - 2s 8ms/step - loss: 4.2330e-04 - mape: 83800.0781 - r_square: 0.9615 - val_loss: 0.0016 - val_mape: 97979.4141 - val_r_square: 0.8462\n",
            "Epoch 61/100\n",
            "213/213 [==============================] - 2s 7ms/step - loss: 4.1426e-04 - mape: 82092.9688 - r_square: 0.9623 - val_loss: 0.0015 - val_mape: 129151.6953 - val_r_square: 0.8552\n",
            "Epoch 62/100\n",
            "213/213 [==============================] - 2s 8ms/step - loss: 3.7829e-04 - mape: 78948.6719 - r_square: 0.9656 - val_loss: 0.0017 - val_mape: 105110.1250 - val_r_square: 0.8399\n",
            "Epoch 63/100\n",
            "213/213 [==============================] - 2s 8ms/step - loss: 4.4603e-04 - mape: 80923.4531 - r_square: 0.9593 - val_loss: 0.0016 - val_mape: 124988.6016 - val_r_square: 0.8447\n",
            "Epoch 64/100\n",
            "213/213 [==============================] - 2s 7ms/step - loss: 4.5399e-04 - mape: 80476.7109 - r_square: 0.9589 - val_loss: 0.0017 - val_mape: 120306.4297 - val_r_square: 0.8425\n",
            "Epoch 65/100\n",
            "213/213 [==============================] - 2s 8ms/step - loss: 5.7898e-04 - mape: 88457.5000 - r_square: 0.9476 - val_loss: 0.0017 - val_mape: 127723.3594 - val_r_square: 0.8388\n",
            "Epoch 66/100\n",
            "213/213 [==============================] - 2s 8ms/step - loss: 4.6177e-04 - mape: 82867.9453 - r_square: 0.9580 - val_loss: 0.0017 - val_mape: 119367.9688 - val_r_square: 0.8342\n",
            "Epoch 67/100\n",
            "213/213 [==============================] - 2s 9ms/step - loss: 4.5054e-04 - mape: 79802.7109 - r_square: 0.9592 - val_loss: 0.0017 - val_mape: 111493.9141 - val_r_square: 0.8414\n",
            "Epoch 68/100\n",
            "213/213 [==============================] - 2s 8ms/step - loss: 3.8536e-04 - mape: 79127.7109 - r_square: 0.9651 - val_loss: 0.0017 - val_mape: 107015.3906 - val_r_square: 0.8373\n",
            "Epoch 69/100\n",
            "213/213 [==============================] - 2s 8ms/step - loss: 3.4468e-04 - mape: 74811.3281 - r_square: 0.9687 - val_loss: 0.0016 - val_mape: 91636.0625 - val_r_square: 0.8464\n",
            "Epoch 70/100\n",
            "213/213 [==============================] - 1s 7ms/step - loss: 3.6359e-04 - mape: 76298.9844 - r_square: 0.9666 - val_loss: 0.0016 - val_mape: 92152.5078 - val_r_square: 0.8439\n",
            "Epoch 71/100\n",
            "213/213 [==============================] - 1s 7ms/step - loss: 3.3391e-04 - mape: 75322.2109 - r_square: 0.9698 - val_loss: 0.0016 - val_mape: 93602.1484 - val_r_square: 0.8501\n",
            "Epoch 72/100\n",
            "213/213 [==============================] - 1s 7ms/step - loss: 4.0404e-04 - mape: 77878.5781 - r_square: 0.9635 - val_loss: 0.0016 - val_mape: 108639.7812 - val_r_square: 0.8517\n",
            "Epoch 73/100\n",
            "213/213 [==============================] - 1s 6ms/step - loss: 3.0644e-04 - mape: 70999.6172 - r_square: 0.9721 - val_loss: 0.0016 - val_mape: 118225.9609 - val_r_square: 0.8516\n",
            "Epoch 74/100\n",
            "213/213 [==============================] - 1s 6ms/step - loss: 2.7389e-04 - mape: 69015.8203 - r_square: 0.9753 - val_loss: 0.0015 - val_mape: 101602.8672 - val_r_square: 0.8559\n",
            "Epoch 75/100\n",
            "213/213 [==============================] - 1s 7ms/step - loss: 2.7487e-04 - mape: 68166.0938 - r_square: 0.9750 - val_loss: 0.0016 - val_mape: 115922.0469 - val_r_square: 0.8493\n",
            "Epoch 76/100\n",
            "213/213 [==============================] - 1s 6ms/step - loss: 3.3750e-04 - mape: 71552.2891 - r_square: 0.9698 - val_loss: 0.0017 - val_mape: 126117.7500 - val_r_square: 0.8359\n",
            "Epoch 77/100\n",
            "213/213 [==============================] - 1s 7ms/step - loss: 4.4871e-04 - mape: 76151.6641 - r_square: 0.9591 - val_loss: 0.0016 - val_mape: 106996.3125 - val_r_square: 0.8496\n",
            "Epoch 78/100\n",
            "213/213 [==============================] - 1s 7ms/step - loss: 3.4436e-04 - mape: 71336.2188 - r_square: 0.9688 - val_loss: 0.0016 - val_mape: 106949.3359 - val_r_square: 0.8505\n",
            "Epoch 79/100\n",
            "213/213 [==============================] - 1s 6ms/step - loss: 4.1459e-04 - mape: 75529.7734 - r_square: 0.9628 - val_loss: 0.0017 - val_mape: 131763.5781 - val_r_square: 0.8394\n",
            "Epoch 80/100\n",
            "213/213 [==============================] - 1s 6ms/step - loss: 5.5217e-04 - mape: 77580.7266 - r_square: 0.9508 - val_loss: 0.0017 - val_mape: 138064.7500 - val_r_square: 0.8424\n",
            "Epoch 81/100\n",
            "213/213 [==============================] - 1s 7ms/step - loss: 3.2589e-04 - mape: 72687.3203 - r_square: 0.9704 - val_loss: 0.0015 - val_mape: 108722.1641 - val_r_square: 0.8549\n",
            "Epoch 82/100\n",
            "213/213 [==============================] - 1s 7ms/step - loss: 2.4507e-04 - mape: 66665.4531 - r_square: 0.9779 - val_loss: 0.0016 - val_mape: 90596.9141 - val_r_square: 0.8491\n",
            "Epoch 83/100\n",
            "213/213 [==============================] - 1s 6ms/step - loss: 2.4950e-04 - mape: 64204.5664 - r_square: 0.9779 - val_loss: 0.0016 - val_mape: 103623.4766 - val_r_square: 0.8473\n",
            "Epoch 84/100\n",
            "213/213 [==============================] - 1s 7ms/step - loss: 2.4772e-04 - mape: 66299.2812 - r_square: 0.9779 - val_loss: 0.0015 - val_mape: 108065.2891 - val_r_square: 0.8563\n",
            "Epoch 85/100\n",
            "213/213 [==============================] - 1s 7ms/step - loss: 2.0317e-04 - mape: 63932.8086 - r_square: 0.9816 - val_loss: 0.0016 - val_mape: 111022.8203 - val_r_square: 0.8486\n",
            "Epoch 86/100\n",
            "213/213 [==============================] - 1s 6ms/step - loss: 2.3723e-04 - mape: 62744.3945 - r_square: 0.9784 - val_loss: 0.0015 - val_mape: 106460.1562 - val_r_square: 0.8602\n",
            "Epoch 87/100\n",
            "213/213 [==============================] - 1s 7ms/step - loss: 2.4310e-04 - mape: 64860.4102 - r_square: 0.9782 - val_loss: 0.0015 - val_mape: 107396.1406 - val_r_square: 0.8588\n",
            "Epoch 88/100\n",
            "213/213 [==============================] - 1s 7ms/step - loss: 2.1268e-04 - mape: 62446.4727 - r_square: 0.9805 - val_loss: 0.0015 - val_mape: 99132.5000 - val_r_square: 0.8577\n",
            "Epoch 89/100\n",
            "213/213 [==============================] - 1s 6ms/step - loss: 2.0375e-04 - mape: 62330.5781 - r_square: 0.9812 - val_loss: 0.0015 - val_mape: 103339.2031 - val_r_square: 0.8563\n",
            "Epoch 90/100\n",
            "213/213 [==============================] - 1s 7ms/step - loss: 2.3458e-04 - mape: 63111.6016 - r_square: 0.9785 - val_loss: 0.0017 - val_mape: 110767.8047 - val_r_square: 0.8356\n",
            "Epoch 91/100\n",
            "213/213 [==============================] - 1s 7ms/step - loss: 2.7043e-04 - mape: 67600.9531 - r_square: 0.9754 - val_loss: 0.0015 - val_mape: 95527.0391 - val_r_square: 0.8536\n",
            "Epoch 92/100\n",
            "213/213 [==============================] - 1s 7ms/step - loss: 2.5487e-04 - mape: 60768.1758 - r_square: 0.9767 - val_loss: 0.0015 - val_mape: 101023.3672 - val_r_square: 0.8537\n",
            "Epoch 93/100\n",
            "213/213 [==============================] - 1s 7ms/step - loss: 2.8785e-04 - mape: 64342.5586 - r_square: 0.9739 - val_loss: 0.0015 - val_mape: 130653.3359 - val_r_square: 0.8533\n",
            "Epoch 94/100\n",
            "213/213 [==============================] - 1s 7ms/step - loss: 2.7888e-04 - mape: 63464.0469 - r_square: 0.9750 - val_loss: 0.0018 - val_mape: 117429.9688 - val_r_square: 0.8289\n",
            "Epoch 95/100\n",
            "213/213 [==============================] - 1s 7ms/step - loss: 4.1061e-04 - mape: 71348.6719 - r_square: 0.9631 - val_loss: 0.0015 - val_mape: 91394.7344 - val_r_square: 0.8560\n",
            "Epoch 96/100\n",
            "213/213 [==============================] - 1s 7ms/step - loss: 2.2675e-04 - mape: 62301.3711 - r_square: 0.9796 - val_loss: 0.0016 - val_mape: 108097.0078 - val_r_square: 0.8498\n",
            "Epoch 97/100\n",
            "213/213 [==============================] - 1s 6ms/step - loss: 2.2197e-04 - mape: 60662.3750 - r_square: 0.9798 - val_loss: 0.0015 - val_mape: 114380.8203 - val_r_square: 0.8585\n",
            "Epoch 98/100\n",
            "213/213 [==============================] - 1s 7ms/step - loss: 2.0026e-04 - mape: 60492.7539 - r_square: 0.9816 - val_loss: 0.0016 - val_mape: 109895.6641 - val_r_square: 0.8475\n",
            "Epoch 99/100\n",
            "213/213 [==============================] - 1s 6ms/step - loss: 1.9133e-04 - mape: 59247.7617 - r_square: 0.9822 - val_loss: 0.0016 - val_mape: 92964.7109 - val_r_square: 0.8454\n",
            "Epoch 100/100\n",
            "213/213 [==============================] - 1s 7ms/step - loss: 5.0006e-04 - mape: 73867.7656 - r_square: 0.9549 - val_loss: 0.0016 - val_mape: 96243.6641 - val_r_square: 0.8496\n"
          ]
        },
        {
          "output_type": "execute_result",
          "data": {
            "text/plain": [
              "<keras.callbacks.History at 0x7faeb35c4f90>"
            ]
          },
          "metadata": {},
          "execution_count": 18
        }
      ]
    },
    {
      "cell_type": "code",
      "metadata": {
        "id": "sun9_RyLYzMM",
        "colab": {
          "base_uri": "https://localhost:8080/",
          "height": 331
        },
        "outputId": "7154bee5-f1b3-4a9e-eb80-b791304c4bd8"
      },
      "source": [
        "# Plot loss\n",
        "plt.figure(figsize=(20, 5))\n",
        "plt.subplot(1, 3, 1)\n",
        "plt.plot(DNN.history.history['loss'], label='Training', linewidth=2)\n",
        "plt.plot(DNN.history.history['val_loss'], label='Validation', linewidth=2)\n",
        "plt.legend()\n",
        "plt.xlabel('Epoch')\n",
        "plt.ylabel('Loss (mse)')\n",
        "plt.grid()\n",
        "plt.subplot(1, 3, 2)\n",
        "plt.plot(DNN.history.history['mape'], label='Training', linewidth=2)\n",
        "plt.plot(DNN.history.history['val_mape'], label='Validation', linewidth=2)\n",
        "plt.legend()\n",
        "plt.xlabel('Epoch')\n",
        "plt.ylabel('MAPE')\n",
        "plt.grid()\n",
        "plt.subplot(1, 3, 3)\n",
        "plt.plot(DNN.history.history['r_square'], label='Training', linewidth=2)\n",
        "plt.plot(DNN.history.history['val_r_square'], label='Validation', linewidth=2)\n",
        "plt.legend()\n",
        "plt.xlabel('Epoch')\n",
        "plt.ylabel('r square')\n",
        "plt.grid()\n",
        "plt.show()"
      ],
      "execution_count": null,
      "outputs": [
        {
          "output_type": "display_data",
          "data": {
            "image/png": "[encoded data removed]",
            "text/plain": [
              "<Figure size 1440x360 with 3 Axes>"
            ]
          },
          "metadata": {
            "needs_background": "light"
          }
        }
      ]
    },
    {
      "cell_type": "code",
      "metadata": {
        "id": "IJVCymAmcIB_",
        "colab": {
          "base_uri": "https://localhost:8080/"
        },
        "outputId": "954b0a76-039d-47e8-9234-6182d8fbc5df"
      },
      "source": [
        "# Generalization metric (opcional)\n",
        "min_loss = np.min([DNN.history.history['loss'][-1], DNN.history.history['val_loss'][-1]])\n",
        "max_loss = np.max([DNN.history.history['loss'][-1], DNN.history.history['val_loss'][-1]])\n",
        "general_loss = (max_loss - min_loss) / max_loss\n",
        "print(f\"Generalization error: {general_loss:6.4f}%\")"
      ],
      "execution_count": null,
      "outputs": [
        {
          "output_type": "stream",
          "name": "stdout",
          "text": [
            "Generalization error: 0.6824%\n"
          ]
        }
      ]
    },
    {
      "cell_type": "code",
      "metadata": {
        "id": "jqWaiy_fb0-x",
        "colab": {
          "base_uri": "https://localhost:8080/"
        },
        "outputId": "b94ff56d-8043-47e6-ebbe-e408e658f296"
      },
      "source": [
        "# Compute test loss\n",
        "loss_test = DNN.evaluate(x=x_test, y=y_test, verbose=False)\n",
        "print(\"Test loss, MAPE, and r2:\", loss_test)"
      ],
      "execution_count": null,
      "outputs": [
        {
          "output_type": "stream",
          "name": "stdout",
          "text": [
            "Test loss, MAPE, and r2: [0.001994132297113538, 183327.703125, 0.79424649477005]\n"
          ]
        }
      ]
    },
    {
      "cell_type": "code",
      "metadata": {
        "id": "lQxF7hMCb8Cp",
        "colab": {
          "base_uri": "https://localhost:8080/"
        },
        "outputId": "3b479c64-4f32-4577-bd69-c5a86c6a0465"
      },
      "source": [
        "# Predict on test set\n",
        "y_test_hat = DNN.predict(x=x_test)\n",
        "print(y_test_hat.shape)"
      ],
      "execution_count": null,
      "outputs": [
        {
          "output_type": "stream",
          "name": "stdout",
          "text": [
            "(1591, 2)\n"
          ]
        }
      ]
    },
    {
      "cell_type": "code",
      "metadata": {
        "id": "tfAf4cIqcGyQ",
        "colab": {
          "base_uri": "https://localhost:8080/",
          "height": 295
        },
        "outputId": "122419d3-0d07-4b42-9faa-d9d65308477a"
      },
      "source": [
        "# Plot y_test_hat\n",
        "indx = np.random.permutation(len(y_test))[:500]\n",
        "plt.scatter(y_test[indx, 0], y_test[indx, 1], c='b', label='y')\n",
        "plt.scatter(y_test_hat[indx, 0], y_test_hat[indx, 1], c='r', marker='+', label='y_h')\n",
        "\n",
        "plt.legend()\n",
        "plt.grid(True)\n",
        "plt.xlabel('PM2.5')\n",
        "plt.ylabel('NO2')\n",
        "plt.title('Test set and its predictions')\n",
        "plt.show()"
      ],
      "execution_count": null,
      "outputs": [
        {
          "output_type": "display_data",
          "data": {
            "image/png": "[encoded data removed]",
            "text/plain": [
              "<Figure size 432x288 with 1 Axes>"
            ]
          },
          "metadata": {
            "needs_background": "light"
          }
        }
      ]
    },
    {
      "cell_type": "code",
      "metadata": {
        "id": "euURHYHPQ9B3"
      },
      "source": [
        ""
      ],
      "execution_count": null,
      "outputs": []
    }
  ]
}